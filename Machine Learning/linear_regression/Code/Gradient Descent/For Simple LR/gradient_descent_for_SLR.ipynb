{
 "cells": [
  {
   "cell_type": "code",
   "execution_count": 23,
   "id": "4375ebf8",
   "metadata": {},
   "outputs": [],
   "source": [
    "import numpy as np\n",
    "import seaborn as sns\n",
    "import matplotlib.pyplot as plt\n",
    "from sklearn.datasets import make_regression\n",
    "from sklearn.model_selection import train_test_split\n",
    "from sklearn.linear_model import LinearRegression\n",
    "import pandas as pd"
   ]
  },
  {
   "cell_type": "markdown",
   "id": "ff02e0ee",
   "metadata": {},
   "source": [
    "#                                                   Introduction\n",
    "```js\n",
    "        The Gradient Descent is used here is for Simple Linear Regression where we have 1 Input Column and obviously 1 Output Column.\n",
    "\n",
    "        The equations and intutions are hand written from scratch in \"Gradient Descent for Simple LR.pdf\"\n",
    "```"
   ]
  },
  {
   "cell_type": "markdown",
   "id": "76849179",
   "metadata": {},
   "source": [
    "#                                               Gradient Descent for 'b'.\n",
    "```js\n",
    "    Here we are assuming 'm' is given which we will calculate by the OLS method (OLS Method = Direct Equation which LinearRegression model from Sklearn uses).\n",
    "\n",
    "    i)   Actually we will use LinearRegression model from Sklearn to compute both m and b.\n",
    "    ii)  Use the m to 'compute b using Gradient Descent'.\n",
    "    iii) Compare the b we calculted in 2.ii with the b from 2.i, to see if b is correct.\n",
    "\n",
    "    The below 3 codes are linked with each other. Run the 1st one to run the 2nd/3rd one.\n",
    "    \n",
    "```"
   ]
  },
  {
   "cell_type": "code",
   "execution_count": 2,
   "id": "c1663839",
   "metadata": {},
   "outputs": [
    {
     "name": "stdout",
     "output_type": "stream",
     "text": [
      "m = 28.125973315135614, b = -2.2710144261783825\n"
     ]
    }
   ],
   "source": [
    "#                                       Here we just calculated m and b using sklearn.\n",
    "\n",
    "# 1 Input column (100, 1), 1 Output column (100, 1). X and Y creates Linear Data.\n",
    "X, Y = make_regression(n_samples=100, n_features=1, n_informative=1, n_targets=1, noise=20, random_state=13)\n",
    "Y = Y.reshape((Y.shape[0], 1)) # Above Y.shape = (100,). This line's Y.shape = (100, 1).\n",
    "\n",
    "x_train, x_test, y_train, y_test = train_test_split(X, Y, test_size=0.2, random_state=2)\n",
    "\n",
    "lr = LinearRegression()\n",
    "lr.fit(X = x_train, y = y_train) # calculated m, b for the future prediction.\n",
    "m, b = lr.coef_, lr.intercept_\n",
    "print(f\"m = {m[0][0]}, b = {b[0]}\")"
   ]
  },
  {
   "cell_type": "code",
   "execution_count": null,
   "id": "966f7d2d",
   "metadata": {},
   "outputs": [
    {
     "name": "stdout",
     "output_type": "stream",
     "text": [
      "m = 28.1259, b = -2.2710107130038946\n",
      "\n",
      "           slope          b\n",
      "0  -1.563664e+04  56.366383\n",
      "1   9.381983e+03 -37.453447\n",
      "2  -5.629190e+03  18.838451\n",
      "3   3.377514e+03 -14.936688\n",
      "4  -2.026508e+03   5.328395\n",
      "5   1.215905e+03  -6.830654\n",
      "6  -7.295430e+02   0.464776\n",
      "7   4.377258e+02  -3.912482\n",
      "8  -2.626355e+02  -1.286128\n",
      "9   1.575813e+02  -2.861941\n",
      "10 -9.454877e+01  -1.916453\n",
      "11  5.672926e+01  -2.483745\n",
      "12 -3.403756e+01  -2.143370\n",
      "13  2.042253e+01  -2.347595\n",
      "14 -1.225352e+01  -2.225060\n",
      "15  7.352113e+00  -2.298581\n",
      "16 -4.411268e+00  -2.254468\n",
      "17  2.646761e+00  -2.280936\n",
      "18 -1.588056e+00  -2.265056\n",
      "19  9.528338e-01  -2.274584\n",
      "20 -5.717003e-01  -2.268867\n",
      "21  3.430202e-01  -2.272297\n",
      "22 -2.058121e-01  -2.270239\n",
      "23  1.234873e-01  -2.271474\n",
      "24 -7.409236e-02  -2.270733\n",
      "25  4.445541e-02  -2.271177\n",
      "26 -2.667325e-02  -2.270911\n",
      "27  1.600395e-02  -2.271071\n",
      "28 -9.602369e-03  -2.270975\n",
      "29  5.761422e-03  -2.271032\n",
      "30 -3.456853e-03  -2.270998\n",
      "31  2.074112e-03  -2.271018\n",
      "32 -1.244467e-03  -2.271006\n",
      "33  7.466802e-04  -2.271014\n",
      "34 -4.480081e-04  -2.271009\n",
      "35  2.688049e-04  -2.271012\n",
      "36 -1.612829e-04  -2.271010\n",
      "37  9.676976e-05  -2.271011\n",
      "38 -5.806185e-05  -2.271010\n",
      "39  3.483711e-05  -2.271011\n",
      "40 -2.090227e-05  -2.271011\n",
      "41  1.254136e-05  -2.271011\n",
      "42 -7.524816e-06  -2.271011\n",
      "43  4.514890e-06  -2.271011\n",
      "44 -2.708934e-06  -2.271011\n",
      "45  1.625360e-06  -2.271011\n",
      "46 -9.752163e-07  -2.271011\n",
      "47  5.851299e-07  -2.271011\n",
      "48 -3.510780e-07  -2.271011\n",
      "49  2.106469e-07  -2.271011\n",
      "50 -1.263882e-07  -2.271011\n",
      "51  7.583297e-08  -2.271011\n",
      "52 -4.549982e-08  -2.271011\n",
      "53  2.730002e-08  -2.271011\n",
      "54 -1.638017e-08  -2.271011\n",
      "55  9.828113e-09  -2.271011\n",
      "56 -5.896851e-09  -2.271011\n",
      "57  3.538020e-09  -2.271011\n",
      "58 -2.122675e-09  -2.271011\n",
      "59  1.273577e-09  -2.271011\n"
     ]
    },
    {
     "data": {
      "image/png": "[encoded data removed]",
      "text/plain": [
       "<Figure size 1000x500 with 2 Axes>"
      ]
     },
     "metadata": {},
     "output_type": "display_data"
    }
   ],
   "source": [
    "#       Here I calculated 'b' using Gradient Descent from the Error/Loss Function and USING EPOCH i.e. TILL SPECIFIC LIMIT.\n",
    "# I also showed the value of slope and b as dataframe to directly go any row number and to show the changes of slope and b.\n",
    "\n",
    "df = pd.DataFrame(data={'slope' : [], 'b' : []})\n",
    "\n",
    "class GDRegressor:\n",
    "    def __init__(self, learning_rate: float, epochs: int):\n",
    "        self.m = 28.1259 # the above m\n",
    "        self.b = -100\n",
    "        self.learning_rate = learning_rate\n",
    "        self.epochs = epochs\n",
    "    \n",
    "    def fit(self, x_train: np.ndarray, y_train: np.ndarray):\n",
    "        x_train, y_train = x_train.ravel(), y_train.ravel() # They need to be in 1D Shape for easier calculation.\n",
    "        slope_, b_ = [], []\n",
    "\n",
    "        for i in range(self.epochs):\n",
    "            slope = -2 * np.sum(y_train - self.m * x_train - self.b)\n",
    "            self.b = self.b - self.learning_rate * slope\n",
    "\n",
    "            slope_.append(slope); b_.append(self.b)\n",
    "        \n",
    "        print(f\"m = {self.m}, b = {self.b}\\n\")\n",
    "        df['slope'], df['b'] = slope_, b_\n",
    "\n",
    "def main():\n",
    "    gdr = GDRegressor(learning_rate = 0.01, epochs = 100)\n",
    "    gdr.fit(x_train, y_train)\n",
    "\n",
    "    print(df.head(60)) # shape (100, 2).\n",
    "    \n",
    "    #                                       How b and slope changes over time/loop/epoch.\n",
    "    fig, ax = plt.subplots(nrows=1, ncols=2, figsize=(10, 5))\n",
    "    ax1 = sns.scatterplot(x=df.index + 1, y=df['b'], ax=ax[0])\n",
    "    ax1.set_xlabel(\"Epoch\")\n",
    "    ax2 = sns.scatterplot(x=df.index + 1, y=df['slope'], ax=ax[1])\n",
    "    ax2.set_xlabel(\"Epoch\")\n",
    "\n",
    "if __name__ == \"__main__\":\n",
    "    main()\n",
    "\n",
    "explanation = \"\"\"\n",
    "From 21th row of df, we can see the slope is -2.27.... At the first rows both slope and b drastically decreased but later\n",
    "from 21th row, regardless of the value of slope, 'b' remained 2.27...\n",
    "\"\"\""
   ]
  },
  {
   "cell_type": "code",
   "execution_count": 111,
   "id": "477b7d95",
   "metadata": {},
   "outputs": [
    {
     "name": "stdout",
     "output_type": "stream",
     "text": [
      "slope = 28.1259, m = -2.2715000109938233\n"
     ]
    }
   ],
   "source": [
    "#       Here I calculated 'b' using Gradient Descent from the Error/Loss Function and USING WHILE LOOP i.e. until\n",
    "#       the difference of b_new and b_old is not close to 0 i.e. loop will be closed when their diff is < 0.0001.\n",
    "\n",
    "class GDRegressor:\n",
    "    def __init__(self, learning_rate: float, epochs: int):\n",
    "        self.m = 28.1259 # the above m.\n",
    "        self.b = -100\n",
    "        self.learning_rate = learning_rate\n",
    "    \n",
    "    def fit(self, x_train: np.ndarray, y_train: np.ndarray):\n",
    "        x_train, y_train = x_train.ravel(), y_train.ravel() # They need to be in 1D Shape for easier calculation.\n",
    "        b_old, b_new = self.b, 0\n",
    "\n",
    "        while abs(b_new - b_old >= 0.0001): # b_old can be positive or negative. So took abs(difference).\n",
    "            if b_new != 0: # In 1st loop it won't be executed.\n",
    "                b_old = b_new\n",
    "            slope          = -2 * np.sum(y_train - self.m * x_train - self.b)\n",
    "            self.b = b_new = self.b - self.learning_rate * slope\n",
    "\n",
    "        print(f\"slope = {self.m}, m = {self.b}\")\n",
    "\n",
    "def main():\n",
    "    gdr = GDRegressor(learning_rate = 0.001, epochs = 100)\n",
    "    gdr.fit(x_train, y_train)\n",
    "\n",
    "if __name__ == \"__main__\":\n",
    "    main()"
   ]
  },
  {
   "cell_type": "markdown",
   "id": "8ed4b746",
   "metadata": {},
   "source": [
    "#                                           Gradient Descent for both 'm' and 'b'."
   ]
  },
  {
   "cell_type": "code",
   "execution_count": 122,
   "id": "0392c610",
   "metadata": {},
   "outputs": [
    {
     "name": "stdout",
     "output_type": "stream",
     "text": [
      "m = 28.12597331513561, b = -2.271014426178381\n",
      "\n",
      "For 0.8309056578021413, the predicted value = [[21.09901593]].\n"
     ]
    }
   ],
   "source": [
    "class GDRegressor:\n",
    "    def __init__(self, learning_rate: float, epochs: int):\n",
    "        self.m =  100 # the above m\n",
    "        self.b = -120\n",
    "        self.learning_rate = learning_rate\n",
    "        self.epochs = epochs\n",
    "    \n",
    "    def fit(self, x_train: np.ndarray, y_train: np.ndarray):\n",
    "        x_train, y_train = x_train.ravel(), y_train.ravel() # They need to be in 1D Shape for easier calculation.\n",
    "\n",
    "        for i in range(self.epochs):\n",
    "            slope_m = -2 * np.sum((y_train - self.m * x_train - self.b) * x_train)\n",
    "            slope_b = -2 * np.sum(y_train - self.m * x_train - self.b)\n",
    "            self.m  = self.m - self.learning_rate * slope_m\n",
    "            self.b  = self.b - self.learning_rate * slope_b\n",
    "        \n",
    "        print(f\"m = {self.m}, b = {self.b}\\n\")\n",
    "    \n",
    "    def predict(self, x_train: np.ndarray):\n",
    "        return self.m * x_train + self.b\n",
    "    \n",
    "def main():\n",
    "    # 1 Input column (100, 1), 1 Output column (100, 1). X and Y creates Linear Data.\n",
    "    X, Y = make_regression(n_samples=100, n_features=1, n_informative=1, n_targets=1, noise=20, random_state=13)\n",
    "    Y = Y.reshape((Y.shape[0], 1)) # Above Y.shape = (100,). This line's Y.shape = (100, 1).\n",
    "\n",
    "    x_train, x_test, y_train, y_test = train_test_split(X, Y, test_size=0.2, random_state=2)\n",
    "\n",
    "    gdr = GDRegressor(learning_rate = 0.01, epochs = 100)\n",
    "    gdr.fit(x_train, y_train)\n",
    "\n",
    "    predict = x_test[0:1] # [[0.83090566]], 2D Shape.\n",
    "    print(f\"For {predict[0][0]}, the predicted value = {gdr.predict(predict)}.\")\n",
    "\n",
    "if __name__ == \"__main__\":\n",
    "    main()"
   ]
  },
  {
   "cell_type": "markdown",
   "id": "fd85f174",
   "metadata": {},
   "source": [
    "```js\n",
    "    To see visualizations of Gradient Discent, the effect of Learning Rate, the effect of Loss Function : Watch https://youtu.be/ORyfPJypKuU?si=3pITKtkVwVx8fSKn&t=5739 from 1:35:44 with 2x Speed.\n",
    "```"
   ]
  }
 ],
 "metadata": {
  "kernelspec": {
   "display_name": "Python 3",
   "language": "python",
   "name": "python3"
  },
  "language_info": {
   "codemirror_mode": {
    "name": "ipython",
    "version": 3
   },
   "file_extension": ".py",
   "mimetype": "text/x-python",
   "name": "python",
   "nbconvert_exporter": "python",
   "pygments_lexer": "ipython3",
   "version": "3.12.4"
  }
 },
 "nbformat": 4,
 "nbformat_minor": 5
}
