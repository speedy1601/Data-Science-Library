{
 "cells": [
  {
   "cell_type": "code",
   "execution_count": 2,
   "id": "1d0ce45a",
   "metadata": {},
   "outputs": [],
   "source": [
    "from sklearn.model_selection import train_test_split\n",
    "from sklearn.metrics import mean_absolute_error, mean_squared_error, r2_score\n",
    "from sklearn.linear_model import LinearRegression\n",
    "import numpy as np\n",
    "import pandas as pd\n",
    "import seaborn as sns"
   ]
  },
  {
   "cell_type": "markdown",
   "id": "3888769e",
   "metadata": {},
   "source": [
    "#                                           Simple Linear Regression from Scratch\n",
    "```js\n",
    "        Work :\n",
    "        ------\n",
    "                We have 1 Input and 1 Output column. After training, the model tries to PREDICT the outcome for new inputs which may or may not be same as the Actual Output, mostly it will be around the actual output.\n",
    "\n",
    "        Also compare our model built from Scratch with Sklearn Linear Regression model to see if we are correct or not.\n",
    "```"
   ]
  },
  {
   "cell_type": "code",
   "execution_count": null,
   "id": "abdf1e8c",
   "metadata": {},
   "outputs": [
    {
     "name": "stdout",
     "output_type": "stream",
     "text": [
      "                     Our Simple LR Model\n",
      "m = 0.557951973425072, b = -0.8961119222429144\n",
      "For CG 8.58, the package is 3.891116009744203 TK.\n",
      "\n",
      "                     Sklearn LR Model\n",
      "m = 0.557951973425072, b = -0.8961119222429144\n",
      "For CG 8.58, the package is 3.891116009744203 TK.\n"
     ]
    }
   ],
   "source": [
    "class My_LR : # The handwritten calculations are shown in \"Simple Linear Regression Calculation\" pdf.\n",
    "    def __init__(self):\n",
    "        self.m = None\n",
    "        self.b = None\n",
    "\n",
    "    def fit(self, x_train: np.ndarray, y_train: np.ndarray):\n",
    "        self.m = ( np.sum((x_train - x_train.mean()) * (y_train - y_train.mean())) /\n",
    "                   np.sum(np.power(x_train - x_train.mean(), 2)) )\n",
    "        \n",
    "        self.b = y_train.mean() - self.m * x_train.mean()\n",
    "\n",
    "        print(f\"m = {self.m}, b = {self.b}\")\n",
    "\n",
    "    def predict(self, x_test: np.ndarray|int|float):\n",
    "        return self.m * x_test + self.b\n",
    "    \n",
    "def main():\n",
    "    # df1 = cgpa | package(the total admission amount for each cgpa) |\n",
    "    df1 = pd.read_csv(r\"D:\\VS CODE\\Data Science\\Machine Learning\\linear_regression\\Dataset\\placement.csv\")\n",
    "\n",
    "    #                                       Using our Custom LR Model Object\n",
    "    print(\"                     Our Simple LR Model\")\n",
    "    X, Y = df1.iloc[:, 0].values, df1.iloc[:, 1].values # if X is numpy array, then x_train and x_test will be numpy arrays.\n",
    "\n",
    "    x_train, x_test, y_train, y_test = train_test_split(X, Y, test_size=0.2, random_state=2)\n",
    "\n",
    "    lr_obj = My_LR() # created an Empty Linear Regression Model Object.\n",
    "    lr_obj.fit(x_train, y_train) # trained the model by calculating the correct m and b.\n",
    "\n",
    "    print(f\"For CG {x_test[0]}, the package is {lr_obj.predict(x_test[0])} TK.\")\n",
    "\n",
    "    #                                       Using Sklearn LR Model Object (ML Algo works in 2D Array, not 1D)\n",
    "    print(\"\\n                     Sklearn LR Model\")\n",
    "    X, Y = df1.iloc[:, :1].values, df1.iloc[:, -1:].values # X.shape = Y.shape = (200, 1).\n",
    "\n",
    "    x_train, x_test, y_train, y_test = train_test_split(X, Y, test_size=0.2, random_state=2)\n",
    "\n",
    "    lr_obj1 = LinearRegression() # created an Empty Linear Regression Model Object.\n",
    "    lr_obj1.fit(X=x_train, y=y_train) # trained the model by calculating the correct m and b.\n",
    "\n",
    "    print(f\"m = {lr_obj1.coef_[0, 0]}, b = {lr_obj1.intercept_[0]}\")\n",
    "    print(f\"For CG {x_test[0][0]}, the package is {lr_obj1.predict(X=np.array(x_test[0], ndmin=2)) [0, 0]} TK.\")\n",
    "\n",
    "if __name__ == '__main__':\n",
    "    main()"
   ]
  },
  {
   "cell_type": "markdown",
   "id": "9cd409ba",
   "metadata": {},
   "source": [
    "#                           What Simple Linear Regression Model actually does?"
   ]
  },
  {
   "cell_type": "code",
   "execution_count": null,
   "id": "f6939288",
   "metadata": {},
   "outputs": [
    {
     "name": "stdout",
     "output_type": "stream",
     "text": [
      "m = 0.557951973425072, b = -0.8961119222429144\n",
      "For CG 4.79, the PREDICTED package is 1.78 TK and ACTUAL is 1.48\n"
     ]
    },
    {
     "data": {
      "image/png": "[encoded data removed]",
      "text/plain": [
       "<Figure size 640x480 with 1 Axes>"
      ]
     },
     "metadata": {},
     "output_type": "display_data"
    }
   ],
   "source": [
    "#                                         Run the above codeblock to run this codeblock.\n",
    "\n",
    "df1 = pd.read_csv(r\"D:\\VS CODE\\Data Science\\Machine Learning\\linear_regression\\Dataset\\placement.csv\")\n",
    "X, Y = df1.iloc[:, 0].values, df1.iloc[:, 1].values # if X is numpy array, then x_train and x_test will be numpy arrays.\n",
    "x_train, x_test, y_train, y_test = train_test_split(X, Y, test_size=0.2, random_state=2)\n",
    "\n",
    "lr_obj = My_LR() # created an Empty Linear Regression Model Object.\n",
    "lr_obj.fit(x_train, y_train) # trained the model by calculating the correct m and b.\n",
    "\n",
    "i = 5\n",
    "sns.scatterplot(x=x_test, y=y_test)\n",
    "\n",
    "sns.scatterplot(x=x_test, y=lr_obj.predict(x_test), c='red', size=15)\n",
    "sns.lineplot(x=x_test, y=lr_obj.predict(x_test), c='red', size=15)\n",
    "\n",
    "sns.scatterplot(x=[x_test[i]], y=[lr_obj.predict(x_test[i])], c='black', size=10)\n",
    "\n",
    "print(f\"For CG {x_test[i]}, the PREDICTED package is {lr_obj.predict(x_test[i]):.2f} TK and ACTUAL is {y_test[i]}\")\n",
    "\n",
    "explanation = \"\"\"\n",
    "On the X Axis, for the cgpa values : \n",
    "    Blue  Dots are the Actual    Package values on the Y Axis.\n",
    "    Red   Dots are the Predicted Package values on the Y Axis. (Red line is the REGRESSION LINE model helps to create)\n",
    "\n",
    "    Black Dot is the PREDICTED Package value for the 5th value which is not the same as the Actual value because Linear\n",
    "    Regression tries to find the best-fitting straight line (a linear equation i.e. Regression Line) through the data.\n",
    "    It's not magic — it doesn't guarantee perfect predictions if:\n",
    "        1) The data isn't perfectly linear (which it almost never is in the real world e.g. the x_test and y_test).\n",
    "        2) There are other variables affecting the outcome that the model doesn't know about like human decisions, market\n",
    "           forces, or measurement error.\n",
    "    \n",
    "So Simple Linear Regression is all about : Draw that regression line(the Predicted values for input column) in a way with\n",
    "such m and b, so the Total Error gets minimized.\n",
    "\"\"\""
   ]
  },
  {
   "cell_type": "markdown",
   "id": "e60a930e",
   "metadata": {},
   "source": [
    "#                                   Evaluate the Performace of Linear Regression Model"
   ]
  },
  {
   "cell_type": "code",
   "execution_count": 11,
   "id": "1ee82202",
   "metadata": {},
   "outputs": [
    {
     "name": "stdout",
     "output_type": "stream",
     "text": [
      "mean_absolute_error = 0.2884710931878175\n",
      "mean_squared_error = 0.12129235313495527\n",
      "Root mean_squared_error = 0.34827051717731616\n",
      "\n",
      "R2 Score = 0.780730147510384\n",
      "adjusted_r2_score = 0.7749598882343415\n"
     ]
    }
   ],
   "source": [
    "#                                                 1) Train the Model\n",
    "\n",
    "# df1 = cgpa | package(the total admission amount for each cgpa) |\n",
    "df1 = pd.read_csv(r\"D:\\VS CODE\\Data Science\\Machine Learning\\linear_regression\\Dataset\\placement.csv\")\n",
    "X, Y = df1.iloc[:, :1].values, df1.iloc[:, -1:].values # X.shape = Y.shape = (200, 1).\n",
    "x_train, x_test, y_train, y_test = train_test_split(X, Y, test_size=0.2, random_state=2)\n",
    "\n",
    "lr_obj1 = LinearRegression() # created an Empty Linear Regression Model Object.\n",
    "lr_obj1.fit(X=x_train, y=y_train) # trained the model by calculating the correct m and b.\n",
    "\n",
    "#                                    2) Calculate the Performance Measuring Matrices.\n",
    "\n",
    "y_predict = lr_obj1.predict(x_test) # returns 2D Numpy Array with the same shape of x_test, (40, 1)\n",
    "\n",
    "print(\"mean_absolute_error =\", mean_absolute_error(y_true=y_test, y_pred=y_predict)) # returns 'loss'. The less, the good.\n",
    "print(\"mean_squared_error =\",  mean_squared_error(y_true=y_test, y_pred=y_predict)) # returns 'loss'. The less, the good.\n",
    "print(\"Root mean_squared_error =\", np.sqrt(mean_squared_error(y_true=y_test, y_pred=y_predict)))\n",
    "\n",
    "r2_scoree = r2_score(y_true=y_test, y_pred=y_predict)\n",
    "print(\"\\nR2 Score =\", r2_scoree) # 0.78 i.e. the Input column, cgpa, can explain the Variance in Output column by 78%.\n",
    "# That means 78%, cgpa column can tell us why for that cgpa we've that package. For the rest 22% packages, r2_score can't\n",
    "# tell us MATHEMATICALLY why for those cgpas, we have the corresponding packages. Those packages are exceptional values.\n",
    "\n",
    "n = x_test.shape[0] # x_test, y_test, y_predict, they all have same shape. Any one works.\n",
    "k = 1 # number of input columns.\n",
    "adjusted_r2_score = 1 - ((1-r2_scoree) * (n-1)/(n-1-k))\n",
    "print(\"adjusted_r2_score =\", adjusted_r2_score) # always check both r2_score and adjusted_r2_score.\n",
    "\n",
    "explanation = \"\"\"\n",
    "mean_absolute_error (MAE), mean_squared_error (MSE) and Root mean_squared_error (RMSE) returns \"MEAN_ERROR\" after the\n",
    "model is trained. Watch [from 1:29:33](https://youtu.be/aEPoLeS6UMM?si=16gM_5Q9aS-L-MFo&t=5373).\n",
    "\n",
    "mean_absolute_error (MAE) is not used that often since we take ABSOLUTE (mod) here and absolute value is not\n",
    "differentiable.\n",
    "\n",
    "mean_squared_error = 0.12. It is less than 0.28 and 0.34 BUT since we squared here, the unit is Output_column's_unit^2.\n",
    "\n",
    "Root mean_squared_error (RMSE) is used most. The Unit of RMSE is same as Output Column.\n",
    "\"\"\""
   ]
  }
 ],
 "metadata": {
  "kernelspec": {
   "display_name": "Python 3",
   "language": "python",
   "name": "python3"
  },
  "language_info": {
   "codemirror_mode": {
    "name": "ipython",
    "version": 3
   },
   "file_extension": ".py",
   "mimetype": "text/x-python",
   "name": "python",
   "nbconvert_exporter": "python",
   "pygments_lexer": "ipython3",
   "version": "3.12.4"
  }
 },
 "nbformat": 4,
 "nbformat_minor": 5
}
