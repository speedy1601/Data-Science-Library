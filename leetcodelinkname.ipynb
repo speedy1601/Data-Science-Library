{
 "cells": [
  {
   "cell_type": "code",
   "execution_count": 12,
   "metadata": {},
   "outputs": [
    {
     "data": {
      "text/plain": [
       "'Combine Two Tables'"
      ]
     },
     "execution_count": 12,
     "metadata": {},
     "output_type": "execute_result"
    }
   ],
   "source": [
    "link = \"https://leetcode.com/problems/combine-two-tables/description/\"\n",
    "' '.join(word.capitalize() for word in link[30:link.index('/description')].split('-'))\n",
    "# print(*[f\"|   {i}   | []() | [Solution]() | `` |\" for i in range(5, 16)], sep='\\n')"
   ]
  },
  {
   "cell_type": "code",
   "execution_count": 13,
   "metadata": {},
   "outputs": [
    {
     "name": "stdout",
     "output_type": "stream",
     "text": [
      "| 2 | []() | []() | |\n",
      "| 3 | []() | []() | |\n",
      "| 4 | []() | []() | |\n",
      "| 5 | []() | []() | |\n",
      "| 6 | []() | []() | |\n",
      "| 7 | []() | []() | |\n",
      "| 8 | []() | []() | |\n",
      "| 9 | []() | []() | |\n"
     ]
    }
   ],
   "source": [
    "for i in range(2, 10):\n",
    "    print(f\"| {i} | []() | []() | |\")"
   ]
  },
  {
   "cell_type": "code",
   "execution_count": 1,
   "metadata": {},
   "outputs": [],
   "source": [
    "import pandas as pd\n",
    "import numpy as np\n",
    "from typing import Callable"
   ]
  },
  {
   "cell_type": "code",
   "execution_count": 2,
   "metadata": {},
   "outputs": [
    {
     "data": {
      "text/plain": [
       "(   personId firstName lastName\n",
       " 0         1      Wang    Allen\n",
       " 1         2     Alice      Bob,\n",
       " '--------------------------------------------------',\n",
       "    addressId  personId           city       state\n",
       " 0          1         2  New York City    New York\n",
       " 1          2         3       Leetcode  California)"
      ]
     },
     "execution_count": 2,
     "metadata": {},
     "output_type": "execute_result"
    }
   ],
   "source": [
    "data = [[1, 'Wang', 'Allen'], [2, 'Alice', 'Bob']]\n",
    "person = pd.DataFrame(data, columns=['personId', 'firstName', 'lastName']).astype({'personId':'Int64', 'firstName':'object', 'lastName':'object'})\n",
    "data = [[1, 2, 'New York City', 'New York'], [2, 3, 'Leetcode', 'California']]\n",
    "address = pd.DataFrame(data, columns=['addressId', 'personId', 'city', 'state']).astype({'addressId':'Int64', 'personId':'Int64', 'city':'object', 'state':'object'})\n",
    "\n",
    "person, f'{'-'*50}', address"
   ]
  },
  {
   "cell_type": "code",
   "execution_count": 4,
   "metadata": {},
   "outputs": [
    {
     "data": {
      "text/plain": [
       "['firstName', 'lastName', 'city', 'state']"
      ]
     },
     "execution_count": 4,
     "metadata": {},
     "output_type": "execute_result"
    }
   ],
   "source": [
    "\"firstName | lastName | city          | state\".replace(' ', '').split('|')"
   ]
  },
  {
   "cell_type": "code",
   "execution_count": 8,
   "metadata": {},
   "outputs": [
    {
     "data": {
      "text/html": [
       "<div>\n",
       "<style scoped>\n",
       "    .dataframe tbody tr th:only-of-type {\n",
       "        vertical-align: middle;\n",
       "    }\n",
       "\n",
       "    .dataframe tbody tr th {\n",
       "        vertical-align: top;\n",
       "    }\n",
       "\n",
       "    .dataframe thead th {\n",
       "        text-align: right;\n",
       "    }\n",
       "</style>\n",
       "<table border=\"1\" class=\"dataframe\">\n",
       "  <thead>\n",
       "    <tr style=\"text-align: right;\">\n",
       "      <th></th>\n",
       "      <th>firstName</th>\n",
       "      <th>lastName</th>\n",
       "      <th>city</th>\n",
       "      <th>state</th>\n",
       "    </tr>\n",
       "  </thead>\n",
       "  <tbody>\n",
       "    <tr>\n",
       "      <th>0</th>\n",
       "      <td>Wang</td>\n",
       "      <td>Allen</td>\n",
       "      <td>NaN</td>\n",
       "      <td>NaN</td>\n",
       "    </tr>\n",
       "    <tr>\n",
       "      <th>1</th>\n",
       "      <td>Alice</td>\n",
       "      <td>Bob</td>\n",
       "      <td>New York City</td>\n",
       "      <td>New York</td>\n",
       "    </tr>\n",
       "  </tbody>\n",
       "</table>\n",
       "</div>"
      ],
      "text/plain": [
       "  firstName lastName           city     state\n",
       "0      Wang    Allen            NaN       NaN\n",
       "1     Alice      Bob  New York City  New York"
      ]
     },
     "execution_count": 8,
     "metadata": {},
     "output_type": "execute_result"
    }
   ],
   "source": [
    "def combine_two_tables(person: pd.DataFrame, address: pd.DataFrame) -> pd.DataFrame:\n",
    "    return ( person.merge(right=address, how='left', on='personId')\n",
    "            .loc[:, ['firstName', 'lastName', 'city', 'state']]\n",
    "           )\n",
    "\n",
    "combine_two_tables(person, address)\n",
    "    "
   ]
  },
  {
   "cell_type": "code",
   "execution_count": 9,
   "metadata": {},
   "outputs": [
    {
     "data": {
      "text/plain": [
       "(   personId firstName lastName\n",
       " 0         1      Wang    Allen\n",
       " 1         2     Alice      Bob,\n",
       " '--------------------------------------------------',\n",
       "    addressId  personId           city       state\n",
       " 0          1         2  New York City    New York\n",
       " 1          2         3       Leetcode  California)"
      ]
     },
     "execution_count": 9,
     "metadata": {},
     "output_type": "execute_result"
    }
   ],
   "source": [
    "data = [[1, 'Wang', 'Allen'], [2, 'Alice', 'Bob']]\n",
    "person = pd.DataFrame(data, columns=['personId', 'firstName', 'lastName']).astype({'personId':'Int64', 'firstName':'object', 'lastName':'object'})\n",
    "data = [[1, 2, 'New York City', 'New York'], [2, 3, 'Leetcode', 'California']]\n",
    "address = pd.DataFrame(data, columns=['addressId', 'personId', 'city', 'state']).astype({'addressId':'Int64', 'personId':'Int64', 'city':'object', 'state':'object'})\n",
    "\n",
    "person, f'{'-'*50}', address"
   ]
  },
  {
   "cell_type": "code",
   "execution_count": 11,
   "metadata": {},
   "outputs": [
    {
     "data": {
      "text/html": [
       "<div><style>\n",
       ".dataframe > thead > tr,\n",
       ".dataframe > tbody > tr {\n",
       "  text-align: right;\n",
       "  white-space: pre-wrap;\n",
       "}\n",
       "</style>\n",
       "<small>shape: (2, 4)</small><table border=\"1\" class=\"dataframe\"><thead><tr><th>firstName</th><th>lastName</th><th>city</th><th>state</th></tr><tr><td>str</td><td>str</td><td>str</td><td>str</td></tr></thead><tbody><tr><td>&quot;Wang&quot;</td><td>&quot;Allen&quot;</td><td>null</td><td>null</td></tr><tr><td>&quot;Alice&quot;</td><td>&quot;Bob&quot;</td><td>&quot;New York City&quot;</td><td>&quot;New York&quot;</td></tr></tbody></table></div>"
      ],
      "text/plain": [
       "shape: (2, 4)\n",
       "┌───────────┬──────────┬───────────────┬──────────┐\n",
       "│ firstName ┆ lastName ┆ city          ┆ state    │\n",
       "│ ---       ┆ ---      ┆ ---           ┆ ---      │\n",
       "│ str       ┆ str      ┆ str           ┆ str      │\n",
       "╞═══════════╪══════════╪═══════════════╪══════════╡\n",
       "│ Wang      ┆ Allen    ┆ null          ┆ null     │\n",
       "│ Alice     ┆ Bob      ┆ New York City ┆ New York │\n",
       "└───────────┴──────────┴───────────────┴──────────┘"
      ]
     },
     "execution_count": 11,
     "metadata": {},
     "output_type": "execute_result"
    }
   ],
   "source": [
    "import polars as pl\n",
    "from polars import col\n",
    "\n",
    "\n",
    "def combine_two_tables(person: pl.LazyFrame, address: pl.LazyFrame) -> pl.LazyFrame:\n",
    "    return ( person.join(other=address, how='left', on='personId')\n",
    "            .select(col('firstName', 'lastName', 'city', 'state'))\n",
    "           )\n",
    "\n",
    "combine_two_tables(pl.LazyFrame(person), pl.LazyFrame(address)).collect()"
   ]
  },
  {
   "cell_type": "code",
   "execution_count": 6,
   "metadata": {},
   "outputs": [
    {
     "name": "stdout",
     "output_type": "stream",
     "text": [
      "<class 'numpy.ndarray'>\n",
      "<class 'numpy.ndarray'>\n",
      "<class 'numpy.ndarray'>\n",
      "<class 'numpy.ndarray'>\n",
      "<class 'numpy.ndarray'>\n"
     ]
    }
   ],
   "source": [
    "import os\n",
    "import cv2\n",
    "\n",
    "img_dir = r\"c:\\Users\\user\\Downloads\\images\"\n",
    "\n",
    "for filename in os.listdir(img_dir):\n",
    "    imgPath = os.path.join(img_dir, filename)\n",
    "    cur_img = cv2.imread(imgPath)\n",
    "    print(type(cur_img))"
   ]
  }
 ],
 "metadata": {
  "kernelspec": {
   "display_name": "Python 3",
   "language": "python",
   "name": "python3"
  },
  "language_info": {
   "codemirror_mode": {
    "name": "ipython",
    "version": 3
   },
   "file_extension": ".py",
   "mimetype": "text/x-python",
   "name": "python",
   "nbconvert_exporter": "python",
   "pygments_lexer": "ipython3",
   "version": "3.12.4"
  }
 },
 "nbformat": 4,
 "nbformat_minor": 2
}
