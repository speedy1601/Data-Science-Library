{
 "cells": [
  {
   "cell_type": "code",
   "execution_count": 16,
   "metadata": {},
   "outputs": [
    {
     "data": {
      "text/plain": [
       "'Employees Earning More Than Their Managers'"
      ]
     },
     "execution_count": 16,
     "metadata": {},
     "output_type": "execute_result"
    }
   ],
   "source": [
    "link = \"https://leetcode.com/problems/employees-earning-more-than-their-managers/description/\"\n",
    "' '.join(word.capitalize() for word in link[30:link.index('/description')].split('-'))\n",
    "# print(*[f\"|   {i}   | []() | [Solution]() | `` |\" for i in range(5, 16)], sep='\\n')"
   ]
  },
  {
   "cell_type": "code",
   "execution_count": 13,
   "metadata": {},
   "outputs": [
    {
     "name": "stdout",
     "output_type": "stream",
     "text": [
      "| 2 | []() | []() | |\n",
      "| 3 | []() | []() | |\n",
      "| 4 | []() | []() | |\n",
      "| 5 | []() | []() | |\n",
      "| 6 | []() | []() | |\n",
      "| 7 | []() | []() | |\n",
      "| 8 | []() | []() | |\n",
      "| 9 | []() | []() | |\n"
     ]
    }
   ],
   "source": [
    "for i in range(2, 10):\n",
    "    print(f\"| {i} | []() | []() | |\")"
   ]
  },
  {
   "cell_type": "code",
   "execution_count": 1,
   "metadata": {},
   "outputs": [],
   "source": [
    "import pandas as pd\n",
    "import numpy as np\n",
    "from typing import Callable"
   ]
  },
  {
   "cell_type": "code",
   "execution_count": null,
   "metadata": {},
   "outputs": [
    {
     "data": {
      "text/plain": [
       "([[1, 'Joe', 70000, 3],\n",
       "  [2, 'Henry', 80000, 4],\n",
       "  [3, 'Sam', 60000, None],\n",
       "  [4, 'Max', 90000, None]],\n",
       " '--------------------------------------------------',\n",
       "    id   name  salary  managerId\n",
       " 0   1    Joe   70000          3\n",
       " 1   2  Henry   80000          4\n",
       " 2   3    Sam   60000       <NA>\n",
       " 3   4    Max   90000       <NA>)"
      ]
     },
     "execution_count": 2,
     "metadata": {},
     "output_type": "execute_result"
    }
   ],
   "source": [
    "data = [[1, 'Joe', 70000, 3], [2, 'Henry', 80000, 4], [3, 'Sam', 60000, None], [4, 'Max', 90000, None]]\n",
    "employee = pd.DataFrame(data, columns=['id', 'name', 'salary', 'managerId']).astype({'id':'Int64', 'name':'object', 'salary':'Int64', 'managerId':'Int64'})\n",
    "\n",
    "data, f'{'-'*50}', employee"
   ]
  },
  {
   "cell_type": "code",
   "execution_count": 7,
   "metadata": {},
   "outputs": [
    {
     "data": {
      "text/html": [
       "<div>\n",
       "<style scoped>\n",
       "    .dataframe tbody tr th:only-of-type {\n",
       "        vertical-align: middle;\n",
       "    }\n",
       "\n",
       "    .dataframe tbody tr th {\n",
       "        vertical-align: top;\n",
       "    }\n",
       "\n",
       "    .dataframe thead th {\n",
       "        text-align: right;\n",
       "    }\n",
       "</style>\n",
       "<table border=\"1\" class=\"dataframe\">\n",
       "  <thead>\n",
       "    <tr style=\"text-align: right;\">\n",
       "      <th></th>\n",
       "      <th>Employee</th>\n",
       "    </tr>\n",
       "  </thead>\n",
       "  <tbody>\n",
       "    <tr>\n",
       "      <th>0</th>\n",
       "      <td>Joe</td>\n",
       "    </tr>\n",
       "  </tbody>\n",
       "</table>\n",
       "</div>"
      ],
      "text/plain": [
       "  Employee\n",
       "0      Joe"
      ]
     },
     "execution_count": 7,
     "metadata": {},
     "output_type": "execute_result"
    }
   ],
   "source": [
    "def find_employees(employee: pd.DataFrame) -> pd.DataFrame:\n",
    "    return ( employee.merge(right=employee, how='left', left_on='managerId', right_on='id', suffixes=['_e', '_m'])\n",
    "            .loc[lambda df: df['salary_e'] > df['salary_m'], ['name_e']]\n",
    "            .rename(columns={'name_e' : 'Employee'})\n",
    "           )\n",
    "\n",
    "find_employees(employee)\n",
    "    "
   ]
  },
  {
   "cell_type": "code",
   "execution_count": 8,
   "metadata": {},
   "outputs": [
    {
     "data": {
      "text/plain": [
       "([[1, 'Joe', 70000, 3],\n",
       "  [2, 'Henry', 80000, 4],\n",
       "  [3, 'Sam', 60000, None],\n",
       "  [4, 'Max', 90000, None]],\n",
       " '--------------------------------------------------',\n",
       "    id   name  salary  managerId\n",
       " 0   1    Joe   70000          3\n",
       " 1   2  Henry   80000          4\n",
       " 2   3    Sam   60000       <NA>\n",
       " 3   4    Max   90000       <NA>)"
      ]
     },
     "execution_count": 8,
     "metadata": {},
     "output_type": "execute_result"
    }
   ],
   "source": [
    "data = [[1, 'Joe', 70000, 3], [2, 'Henry', 80000, 4], [3, 'Sam', 60000, None], [4, 'Max', 90000, None]]\n",
    "employee = pd.DataFrame(data, columns=['id', 'name', 'salary', 'managerId']).astype({'id':'Int64', 'name':'object', 'salary':'Int64', 'managerId':'Int64'})\n",
    "\n",
    "data, f'{'-'*50}', employee"
   ]
  },
  {
   "cell_type": "code",
   "execution_count": 15,
   "metadata": {},
   "outputs": [
    {
     "data": {
      "text/html": [
       "<div><style>\n",
       ".dataframe > thead > tr,\n",
       ".dataframe > tbody > tr {\n",
       "  text-align: right;\n",
       "  white-space: pre-wrap;\n",
       "}\n",
       "</style>\n",
       "<small>shape: (1, 1)</small><table border=\"1\" class=\"dataframe\"><thead><tr><th>Employee</th></tr><tr><td>str</td></tr></thead><tbody><tr><td>&quot;Joe&quot;</td></tr></tbody></table></div>"
      ],
      "text/plain": [
       "shape: (1, 1)\n",
       "┌──────────┐\n",
       "│ Employee │\n",
       "│ ---      │\n",
       "│ str      │\n",
       "╞══════════╡\n",
       "│ Joe      │\n",
       "└──────────┘"
      ]
     },
     "execution_count": 15,
     "metadata": {},
     "output_type": "execute_result"
    }
   ],
   "source": [
    "import polars as pl\n",
    "from polars import col\n",
    "\n",
    "\n",
    "def find_employees(employee: pl.LazyFrame) -> pl.LazyFrame:\n",
    "    return ( employee.join(other=employee, how='inner', left_on='managerId', right_on='id', suffix=\"_m\")\n",
    "            .filter(col('salary') > col('salary_m'))\n",
    "            .select(Employee = col('name'))\n",
    "           )\n",
    "\n",
    "find_employees(pl.LazyFrame(employee)) .collect()\n",
    "# combine_two_tables(pl.LazyFrame(person), pl.LazyFrame(address)).collect()"
   ]
  },
  {
   "cell_type": "code",
   "execution_count": 6,
   "metadata": {},
   "outputs": [
    {
     "name": "stdout",
     "output_type": "stream",
     "text": [
      "<class 'numpy.ndarray'>\n",
      "<class 'numpy.ndarray'>\n",
      "<class 'numpy.ndarray'>\n",
      "<class 'numpy.ndarray'>\n",
      "<class 'numpy.ndarray'>\n"
     ]
    }
   ],
   "source": [
    "import os\n",
    "import cv2\n",
    "\n",
    "img_dir = r\"c:\\Users\\user\\Downloads\\images\"\n",
    "\n",
    "for filename in os.listdir(img_dir):\n",
    "    imgPath = os.path.join(img_dir, filename)\n",
    "    cur_img = cv2.imread(imgPath)\n",
    "    print(type(cur_img))"
   ]
  }
 ],
 "metadata": {
  "kernelspec": {
   "display_name": "Python 3",
   "language": "python",
   "name": "python3"
  },
  "language_info": {
   "codemirror_mode": {
    "name": "ipython",
    "version": 3
   },
   "file_extension": ".py",
   "mimetype": "text/x-python",
   "name": "python",
   "nbconvert_exporter": "python",
   "pygments_lexer": "ipython3",
   "version": "3.12.4"
  }
 },
 "nbformat": 4,
 "nbformat_minor": 2
}
