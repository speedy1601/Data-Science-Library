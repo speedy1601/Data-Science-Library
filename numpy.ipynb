{
 "cells": [
  {
   "cell_type": "code",
   "execution_count": 1,
   "metadata": {},
   "outputs": [],
   "source": [
    "import numpy as np"
   ]
  },
  {
   "cell_type": "markdown",
   "metadata": {},
   "source": [
    "```js\n",
    "            dtype = 'X'\n",
    "\n",
    "            X = i  -- integer version and it's 32 bit\n",
    "                f  -- float   version and it's 32 bit\n",
    "                S  -- string\n",
    "``` "
   ]
  },
  {
   "cell_type": "markdown",
   "metadata": {},
   "source": [
    "```js    \n",
    "    // The below all the functions return new array.\n",
    "    0. np.array_split(array, split_numbers)\n",
    "    1. Adding \"HORIZONTALLY\", \"AT RIGHT\", \"COLUMN\" : np.hstack((arrays)) = np.concatenate((arrays), axis=1) = np.column_stack((arrays))\n",
    "    2. Adding \"VERTICALLY\"  , \"AT DOWN\" , \"ROW\"    : np.vstack((arrays)) = np.concatenate((arrays), axis=0) = np.row_stack((arrays))\n",
    "\n",
    "                Note : np.hstack(..) means STACKING HORIZONTALLY i.e. ADDING COLUMN WISE, thats why np.hstack()= np.column_stack().\n",
    "                       np.vstack(..) means STACKING VERTICALLY   i.e. ADDING ROW    WISE, thats why np.vstack()= np.row_stack(). \n",
    "                Complicated? Yes, so we will 'avoid using np.column_stack() and np.row_stack().'\n",
    "\n",
    "                                             For adding Two 1D numpy array i.e. ADDING \"HORIZONTALLY\" / \"AT RIGHT\"\n",
    "                           ---------------------------------------------------------------------------------------------------------\n",
    "                           np.hstack(..) works fine. So it should be np.concatenate((..), axis=1)? Well No.. For 1D array its np.concatenate((..), axis=0) because np.concatenate() treats 1D array as a 'COLUMN' i.e. 'VERTICALLY', thats why axis = 0 in that case!\n",
    "\n",
    "      So : Use vstack, hstack as much as possible.\n",
    "    \n",
    "    3. np.random.random()  -- a random floating value from 0 to 1\n",
    "    4. np.random.uniform(low, high, output_shape)  -- for floating values   'range(low, high)'\n",
    "    5. np.random.randint(low, high, output_shape)  -- for integer  values\n",
    "    6. np.random.choice(array_from_where_choice_will_be_made or an_endpoint_integer or range(), output_shape)\n",
    "    `an_endpoint_integer = 5, means the array = [0, 1, 2, 3, 4]`\n",
    "\n",
    "    7.\n",
    "            arr = numpy array\n",
    "            arr[(arr & 1) == 1] = -1     -- it will modify the arr IN PLACE\n",
    "\n",
    "            np.where(condition, yield if its Ture, yield if its False)  -- syntax\n",
    "            temp_arr = np.where(arr & 1, -1, arr)  -- this will return new array but same values as \"arr[(arr & 1) == 1] = -1\"\n",
    "    \n",
    "    8. np.percentile(array, q) // q = Percentage Value\n",
    "\n",
    "                arr = np.array([1, 4, 8, 9, 12, 34, 43])\n",
    "                value = np.percentile(arr, q=35)  // 8.1\n",
    "\n",
    "                value = 8.1 telling me that 35% value in 'arr' is 'less than' 8.1\n",
    "\n",
    "                Note : This function helps greatly when we want to know How much number / people are below a Perticular Percentage.\n",
    "\n",
    "    9. Fancy Indexing, Boolean Indexing, Broadcasting\n",
    "    10. np.histogram() which doesnt draw the histogram but CALCULATE 'counts' and 'bins' which we can utilize to draw the histogram.\n",
    "    10. np.isnan(),    np.isin(),    np.flip()\n",
    "    11. set functions('union, intersect, setdiff, setxor, unique') which returns 'SORTED UNIQUE VALUES'.\n",
    "    12. np.ndenumerate(ndarray) for iterating numpy arrays.\n",
    "```"
   ]
  },
  {
   "cell_type": "code",
   "execution_count": 14,
   "metadata": {},
   "outputs": [
    {
     "data": {
      "text/plain": [
       "array([0.3, 1.2, 2.1])"
      ]
     },
     "execution_count": 14,
     "metadata": {},
     "output_type": "execute_result"
    }
   ],
   "source": [
    "np.linspace(0.3, 3, 3, endpoint=False)"
   ]
  },
  {
   "cell_type": "code",
   "execution_count": 15,
   "metadata": {},
   "outputs": [
    {
     "data": {
      "text/plain": [
       "array([ 2,  4,  6,  8, 10, 12, 14, 16, 18, 20, 22, 24, 26, 28, 30, 32, 34,\n",
       "       36, 38, 40, 42, 44, 46, 48, 50, 52, 54, 56, 58, 60, 62, 64, 66],\n",
       "      dtype=int16)"
      ]
     },
     "execution_count": 15,
     "metadata": {},
     "output_type": "execute_result"
    }
   ],
   "source": [
    "np.arange(2, 68, 2, dtype=np.int16)"
   ]
  },
  {
   "cell_type": "code",
   "execution_count": 16,
   "metadata": {},
   "outputs": [
    {
     "data": {
      "text/plain": [
       "array([ 1.   ,  1.388,  1.775,  2.164,  2.55 ,  2.94 ,  3.326,  3.715,\n",
       "        4.1  ,  4.49 ,  4.88 ,  5.266,  5.652,  6.04 ,  6.43 ,  6.816,\n",
       "        7.203,  7.594,  7.98 ,  8.37 ,  8.76 ,  9.14 ,  9.53 ,  9.92 ,\n",
       "       10.305, 10.695, 11.08 , 11.47 , 11.86 , 12.24 , 12.63 , 13.02 ,\n",
       "       13.41 , 13.8  , 14.19 , 14.57 , 14.96 , 15.34 , 15.734, 16.12 ,\n",
       "       16.52 , 16.89 , 17.28 , 17.67 , 18.06 , 18.45 , 18.84 , 19.22 ,\n",
       "       19.61 , 20.   ], dtype=float16)"
      ]
     },
     "execution_count": 16,
     "metadata": {},
     "output_type": "execute_result"
    }
   ],
   "source": [
    "np.linspace(1, 20, 50, dtype=np.float16, endpoint=True)"
   ]
  },
  {
   "cell_type": "code",
   "execution_count": 17,
   "metadata": {},
   "outputs": [
    {
     "data": {
      "text/plain": [
       "array([[17, 17, 17, 17, 17],\n",
       "       [17, 17, 17, 17, 17],\n",
       "       [17, 17, 17, 17, 17]], dtype=int16)"
      ]
     },
     "execution_count": 17,
     "metadata": {},
     "output_type": "execute_result"
    }
   ],
   "source": [
    "np.full((3, 5), fill_value=17, dtype=np.int16)"
   ]
  },
  {
   "cell_type": "code",
   "execution_count": 18,
   "metadata": {},
   "outputs": [
    {
     "data": {
      "text/plain": [
       "array([1, 1, 1, 1, 1], dtype=int8)"
      ]
     },
     "execution_count": 18,
     "metadata": {},
     "output_type": "execute_result"
    }
   ],
   "source": [
    "np.ones((5), dtype=np.int8)"
   ]
  },
  {
   "cell_type": "code",
   "execution_count": 19,
   "metadata": {},
   "outputs": [
    {
     "name": "stdout",
     "output_type": "stream",
     "text": [
      "[[ 2  3  4  5  6  7  8  9 10 11 12 13]\n",
      " [14 15 16 17 18 19 20 21 22 23 24 25]\n",
      " [26 27 28 29 30 31 32 33 34 35 36 37]] \n",
      "\n",
      "[[ 2  5  8 11]\n",
      " [26 29 32 35]] \n",
      "\n",
      "[ 3  5  7  9 11 13 15 17 19 21 23 25 27 29 31 33 35 37]\n"
     ]
    }
   ],
   "source": [
    "arr = np.arange(2, 38, dtype=np.int16)\n",
    "arr = arr.reshape((3, arr.size // 3))\n",
    "\n",
    "print(arr, '\\n')\n",
    "\n",
    "print(arr[::2, ::3], '\\n')\n",
    "\n",
    "print(arr[arr & 1 == 1])\n"
   ]
  },
  {
   "cell_type": "code",
   "execution_count": 8,
   "metadata": {},
   "outputs": [
    {
     "name": "stdout",
     "output_type": "stream",
     "text": [
      "[[ 2  3  4  5  6  7  8  9 10 11 12 13]\n",
      " [14 15 16 17 18 19 20 21 22 23 24 25]\n",
      " [26 27 28 29 30 31 32 33 34 35 36 37]] \n",
      "--------------------------------------------\n",
      "\n",
      "[ 90 234 378] \n",
      "\n",
      "[42 45 48 51 54 57 60 63 66 69 72 75] \n",
      "\n",
      "[13 25 37] \n",
      "\n",
      "[26 27 28 29 30 31 32 33 34 35 36 37] \n",
      "\n",
      "[ 2 14 26] \n",
      "\n",
      "[ 2  3  4  5  6  7  8  9 10 11 12 13] \n",
      "\n"
     ]
    }
   ],
   "source": [
    "n = '\\n'\n",
    "arr = np.arange(2, 38, dtype=np.int16)\n",
    "arr = arr.reshape((3, arr.size // 3))\n",
    "\n",
    "print(arr, '\\n--------------------------------------------\\n')\n",
    "\n",
    "print(np.sum(arr, axis=1), n) # Horizontally\n",
    "print(np.sum(arr, axis=0), n) # Vertically\n",
    "\n",
    "print(np.max(arr, axis=1), n) # Horizontally\n",
    "print(np.max(arr, axis=0), n) # Vertically\n",
    "\n",
    "print(np.min(arr, axis=1), n) # Horizontally\n",
    "print(np.min(arr, axis=0), n) # Vertically"
   ]
  },
  {
   "cell_type": "code",
   "execution_count": 21,
   "metadata": {},
   "outputs": [
    {
     "name": "stdout",
     "output_type": "stream",
     "text": [
      "35 \n",
      "\n",
      "[11 11 11] \n",
      "\n",
      "[2 2 2 2 2 2 2 2 2 2 2 2] \n",
      "\n",
      "0 \n",
      "\n",
      "[0 0 0] \n",
      "\n",
      "[0 0 0 0 0 0 0 0 0 0 0 0] \n",
      "\n"
     ]
    }
   ],
   "source": [
    "# argmax = index of the maximum number        argmin = index of the minimum number\n",
    "\n",
    "print(arr.argmax(), '\\n')\n",
    "\n",
    "print(arr.argmax(axis=1), '\\n')\n",
    "print(arr.argmax(axis=0), '\\n')\n",
    "\n",
    "print(arr.argmin(), '\\n')\n",
    "\n",
    "print(arr.argmin(axis=1), '\\n')\n",
    "print(arr.argmin(axis=0), '\\n')"
   ]
  },
  {
   "cell_type": "code",
   "execution_count": 22,
   "metadata": {},
   "outputs": [
    {
     "data": {
      "text/plain": [
       "array([[ 2,  3,  4,  5,  6,  7,  8,  9, 10, 11, 12, 13],\n",
       "       [14, 15, 16, 17, 18, 19, 20, 21, 22, 23, 24, 25],\n",
       "       [26, 27, 28, 29, 30, 31, 32, 33, 34, 35, 36, 37]], dtype=int16)"
      ]
     },
     "execution_count": 22,
     "metadata": {},
     "output_type": "execute_result"
    }
   ],
   "source": [
    "arr"
   ]
  },
  {
   "cell_type": "code",
   "execution_count": 23,
   "metadata": {},
   "outputs": [
    {
     "data": {
      "text/plain": [
       "1.0"
      ]
     },
     "execution_count": 23,
     "metadata": {},
     "output_type": "execute_result"
    }
   ],
   "source": [
    "arr1 = np.arange(12, dtype=np.uint8).reshape((3, 4))\n",
    "arr2 = np.arange(12, 27, dtype=np.uint8).reshape((3, 5))\n",
    "arr3 = np.arange(27, 45, dtype=np.uint8).reshape((3, 6))\n",
    "\n",
    "arr = np.array([1, 4, 8, 9, 12, 34, 43])\n",
    "value = np.percentile(arr, q=35)  // 8.1\n",
    "value"
   ]
  },
  {
   "cell_type": "code",
   "execution_count": 24,
   "metadata": {},
   "outputs": [
    {
     "name": "stdout",
     "output_type": "stream",
     "text": [
      "[[[ 0  1  2]\n",
      "  [ 3  4  5]\n",
      "  [ 6  7  8]\n",
      "  [ 9 10 11]\n",
      "  [12 13 14]]\n",
      "\n",
      " [[15 16 17]\n",
      "  [18 19 20]\n",
      "  [21 22 23]\n",
      "  [24 25 26]\n",
      "  [27 28 29]]\n",
      "\n",
      " [[30 31 32]\n",
      "  [33 34 35]\n",
      "  [36 37 38]\n",
      "  [39 40 41]\n",
      "  [42 43 44]]] \n",
      " -------------------------  [ 0  1  2  3  4  5  6  7  8  9 10 11 12 13 14 15 16 17 18 19 20 21 22 23\n",
      " 24 25 26 27 28 29 30 31 32 33 34 35 36 37 38 39 40 41 42 43 44]\n"
     ]
    }
   ],
   "source": [
    "arr = np.arange(45, dtype=np.uint8).reshape((3, 5, 3))\n",
    "\n",
    "print(arr, '\\n ------------------------- ', arr.ravel())"
   ]
  },
  {
   "cell_type": "markdown",
   "metadata": {},
   "source": [
    "#                                    Fancy Indexing"
   ]
  },
  {
   "cell_type": "code",
   "execution_count": 13,
   "metadata": {},
   "outputs": [
    {
     "data": {
      "text/plain": [
       "((5, 4, 5),\n",
       " array([[[ 0,  1,  2,  3,  4],\n",
       "         [ 5,  6,  7,  8,  9],\n",
       "         [10, 11, 12, 13, 14],\n",
       "         [15, 16, 17, 18, 19]],\n",
       " \n",
       "        [[20, 21, 22, 23, 24],\n",
       "         [25, 26, 27, 28, 29],\n",
       "         [30, 31, 32, 33, 34],\n",
       "         [35, 36, 37, 38, 39]],\n",
       " \n",
       "        [[40, 41, 42, 43, 44],\n",
       "         [45, 46, 47, 48, 49],\n",
       "         [50, 51, 52, 53, 54],\n",
       "         [55, 56, 57, 58, 59]],\n",
       " \n",
       "        [[60, 61, 62, 63, 64],\n",
       "         [65, 66, 67, 68, 69],\n",
       "         [70, 71, 72, 73, 74],\n",
       "         [75, 76, 77, 78, 79]],\n",
       " \n",
       "        [[80, 81, 82, 83, 84],\n",
       "         [85, 86, 87, 88, 89],\n",
       "         [90, 91, 92, 93, 94],\n",
       "         [95, 96, 97, 98, 99]]]))"
      ]
     },
     "execution_count": 13,
     "metadata": {},
     "output_type": "execute_result"
    }
   ],
   "source": [
    "shape = np.array([5, 4, 5])\n",
    "arr = np.arange(shape.prod()).reshape(shape)\n",
    "arr.shape, arr"
   ]
  },
  {
   "cell_type": "code",
   "execution_count": 30,
   "metadata": {},
   "outputs": [
    {
     "name": "stdout",
     "output_type": "stream",
     "text": [
      "z_indexes = [3 4 0] \n",
      "\n",
      "[ 8 74 95] \n",
      "---------------------------\n",
      "\n",
      "y_indexes = [2 0 3 1 3] \n",
      "\n",
      "[[10 11 12 13 14]\n",
      " [20 21 22 23 24]\n",
      " [55 56 57 58 59]\n",
      " [65 66 67 68 69]\n",
      " [95 96 97 98 99]]\n"
     ]
    }
   ],
   "source": [
    "new_line = \"\\n---------------------------\\n\"\n",
    "# Fancy Indexing\n",
    "z_indexes = np.random.choice(a=5, size=(3,), replace=False)\n",
    "y_indexes = np.hstack((np.random.choice(a=4, size=(arr.shape[0] - 1,), replace=False), np.random.choice(a=4, size=(1,)) ))\n",
    "            #--------------------------------------------4-------------------------- , ---------------------1-----...  = 5 values\n",
    "print(\"z_indexes =\", z_indexes, '\\n')\n",
    "print(arr[[0, 3, 4], [1, 2, 3], z_indexes], new_line)\n",
    "\n",
    "print('y_indexes =', y_indexes, '\\n')\n",
    "print(arr[np.arange(arr.shape[0]), y_indexes])\n",
    "#             [0, 1, 2, 3, 4]"
   ]
  },
  {
   "cell_type": "markdown",
   "metadata": {},
   "source": [
    "```js\n",
    "            arr[:, [2 0 3 1 3]]     and     arr[[0, 1, 2, 3, 4], [2, 0, 3, 1, 3]]    ARE NOT SAME!\n",
    "        \n",
    "       1. arr[:, [2 0 3 1 3]] means for EVERY ROW, it will perform [2 0 3 1 3] THE WHOLE ARRAY!\n",
    "       2. arr[[0, 1, 2, 3, 4], [2, 0, 3, 1, 3]]  here its different because for row 0, its column 2.. for row 1, column 0 ............"
   ]
  },
  {
   "cell_type": "markdown",
   "metadata": {},
   "source": [
    "#                                                   Broadcasting\n",
    "[Watch](https://www.youtube.com/live/40xGMygHMDU?si=00lg_Eja_ichBkI8) from [40:43].. \n",
    "\n",
    "In that video, the [broadcasting_rules] are what numpy APPLY INTERNALLY to measure if broadcasting can be applied or not between 2 arrays.\n",
    "\n",
    "Now Quick Summary :\n",
    "-------------------\n",
    "\n",
    "```js\n",
    "1.\n",
    "            a = [1, 2, 3],             b = [[[4, 5, 6]],             a + b\n",
    "                                            [[4, 5, 6]],\n",
    "                                            [[4, 5, 6]]]\n",
    "\n",
    "    Since [1, 2, 3] is the same 'SHAPE' as the DEEPEST ARRAY ([4, 5, 6]) inside 'b', so 'a' will be added with each [4, 5, 6] inside 'b'\n",
    "\n",
    "2. \n",
    "            a = [[1],                  b = [[[4, 4, 4]],             a + b\n",
    "                 [2],                       [[5, 5, 5]],\n",
    "                 [3]]                       [[6, 6, 6]]]\n",
    "    \n",
    "    'a'.shape = (2, 1) i.e. A SINGLE COLUMN! Since \n",
    "\n",
    "                [[1],                                                           [[4],            \n",
    "                 [2],               (The 'DEEPEST COLUMN' of 'b') -->            [5],\n",
    "                 [3]]                                                            [6]]\n",
    "\n",
    "            These 2 have the same shape  = (3, 1), so 'a' will applied on each DEEPEST column in 'b'\n",
    "\n",
    "3. The last type is : a = Single Column and b = a Single Row, less common!\n",
    "          a =  [[1]       b = [4, 5, 6]         a = (3, 1), b = (3,)\n",
    "                [2]                               = (3, 1), b = (1, 3)\n",
    "                [3]]                              = (3, 3), b = (1, 3)\n",
    "                                                  = (3, 3), b = (3, 3)\n",
    "          \n",
    "          So : \n",
    "          a = [[1, 1, 1],    b = [[4, 5, 6],      Now we can do a + b\n",
    "               [2, 2, 2],         [4, 5, 6],\n",
    "               [3, 3, 3]]         [4, 5, 6]]\n",
    "          "
   ]
  },
  {
   "cell_type": "code",
   "execution_count": 21,
   "metadata": {},
   "outputs": [
    {
     "name": "stdout",
     "output_type": "stream",
     "text": [
      "[[[0 1 2]\n",
      "  [3 4 5]]] \n",
      "\n",
      "[[6 7 8]] \n",
      "\n",
      "[6 7 8] \n",
      "\n",
      "[[ 9]\n",
      " [10]] \n",
      "--------------\n",
      "\n",
      "[[[ 6  8 10]\n",
      "  [ 9 11 13]]] \n",
      "\n",
      "[[[ 6  8 10]\n",
      "  [ 9 11 13]]] \n",
      "--------------\n",
      "\n",
      "[[[ 9 10 11]\n",
      "  [13 14 15]]]\n"
     ]
    }
   ],
   "source": [
    "a = np.arange(6).reshape(1, 2, 3)\n",
    "b = np.arange(6, 9).reshape(1, 3)\n",
    "c = np.arange(6, 9).reshape(3,)\n",
    "d = np.arange(9, 11).reshape(2, 1)\n",
    "\n",
    "print(a, '\\n')\n",
    "print(b, '\\n')\n",
    "print(c, '\\n')\n",
    "print(d, '\\n--------------\\n')\n",
    "\n",
    "print(a + c, '\\n')\n",
    "print(a + b, '\\n--------------\\n')\n",
    "\n",
    "print(a + d)\n"
   ]
  },
  {
   "cell_type": "code",
   "execution_count": 59,
   "metadata": {},
   "outputs": [
    {
     "name": "stdout",
     "output_type": "stream",
     "text": [
      "[0 1 2 3]\n",
      "\n",
      "[4 5 6]\n",
      "-------------------------------------\n",
      "[0 1 2 3 4 5 6] \n",
      "\n",
      "[0 1 2 3 4 5 6] \n",
      "\n"
     ]
    }
   ],
   "source": [
    "a = np.arange(4)\n",
    "b = np.arange(4, 7)\n",
    "\n",
    "n = '\\n'\n",
    "print(f\"{a}\\n\\n{b}\\n-------------------------------------\")\n",
    "\n",
    "p = np.hstack((a, b))\n",
    "print(p, n)\n",
    "\n",
    "q = np.concatenate((a, b), axis=0)\n",
    "print(q, n)"
   ]
  },
  {
   "cell_type": "markdown",
   "metadata": {},
   "source": [
    "#                             np.expand_dims   =   helps to increase the dimension along either Vertically or Horizontally.\n",
    "```js\n",
    "                By Increasing Dimension menas, from 1D to 2D, from 2D to 3D ALONG axis 0 or 1.\n",
    "```"
   ]
  },
  {
   "cell_type": "code",
   "execution_count": 13,
   "metadata": {},
   "outputs": [
    {
     "data": {
      "text/plain": [
       "(array([[1, 2, 3, 4]]),\n",
       " array([[1],\n",
       "        [2],\n",
       "        [3],\n",
       "        [4]]))"
      ]
     },
     "execution_count": 13,
     "metadata": {},
     "output_type": "execute_result"
    }
   ],
   "source": [
    "a = np.array([1, 2, 3, 4])\n",
    "\"\"\" In this function, saying \"vertically or horizontally\" feels very Complicated. So We will say \"Row Wise\" or \"Column Wise\".\n",
    "\n",
    "a = (4,)  => Lets say, I want it as it is but in 2D like [[1, 2, 3, 4]] i.e. from (4,) to (1, 4) which is telling \"Increase The\n",
    "Outer Row\" i.e. \"Keep My Array AS IT IS, just wrap it with a [] like [a] = [[1, 2, 3, 4]]. So we are adding an extra Row! That's\n",
    "why axis = 0 in that case.. Play making axis = 1 also.\n",
    "\"\"\"\n",
    "\n",
    "np.expand_dims(a, axis=0), np.expand_dims(a, axis=1)"
   ]
  },
  {
   "cell_type": "code",
   "execution_count": 77,
   "metadata": {},
   "outputs": [
    {
     "name": "stdout",
     "output_type": "stream",
     "text": [
      "[[ 0  1  2]\n",
      " [ 3  4  5]\n",
      " [ 6  7  8]\n",
      " [ 9 10 11]] \n",
      "-----------\n",
      "[[[ 0  1  2]\n",
      "  [ 3  4  5]\n",
      "  [ 6  7  8]\n",
      "  [ 9 10 11]]]\n",
      "-------------\n",
      "[[[ 0  1  2]]\n",
      "\n",
      " [[ 3  4  5]]\n",
      "\n",
      " [[ 6  7  8]]\n",
      "\n",
      " [[ 9 10 11]]]\n"
     ]
    }
   ],
   "source": [
    "b = np.arange(12).reshape(4, 3)\n",
    "print(b, '\\n-----------')\n",
    "\n",
    "print(f\"{np.expand_dims(b, axis=0)}\\n-------------\\n{np.expand_dims(b, axis=1)}\")"
   ]
  },
  {
   "cell_type": "markdown",
   "metadata": {},
   "source": [
    "#                         np.histogram"
   ]
  },
  {
   "cell_type": "code",
   "execution_count": 55,
   "metadata": {},
   "outputs": [
    {
     "name": "stdout",
     "output_type": "stream",
     "text": [
      "[1 1 1 2 2 2 2 2 3 3 4 4 5 5 7 7 7 8 8 9 9 9]\n",
      "\n",
      "3 5 2 2 2 0 3 2 3\n",
      "1 2 3 4 5 6 7 8 9 10\n"
     ]
    }
   ],
   "source": [
    "arr = np.array([1, 1, 1, 2, 2, 2, 2, 2, 3, 3, 4, 4, 5, 5, 7, 7, 7, 8, 8, 9, 9, 9]) #np.random.randint(low=1, high=10, size=(20,), dtype=np.uint8)\n",
    "\n",
    "print(np.sort(arr))\n",
    "\n",
    "bins = np.arange(start=arr.min(), stop=arr.max()+2, dtype=np.uint8)\n",
    "counts, bins_edges = np.histogram(arr, bins)\n",
    "\n",
    "print(f\"\\n{' '.join(counts.astype(np.str_))}\\n{' '.join(bins_edges.astype(np.str_))}\")"
   ]
  },
  {
   "cell_type": "markdown",
   "metadata": {},
   "source": [
    "```js\n",
    "        The First Bin is 1 to 2 where 1 is Inclusive and 2 is Exclusive! So [1 - 2] is talking about [1] itself here as we dont have fractions here like 1.2, 1.3.. So as the max value is 9, we need [9 - 10]. Thats why the 'bins/bins_edges' np.histogram returns has '1 extra value' than 'counts'.\n",
    "\n",
    "        So np.histogram doesnt return The Histogram BUT The 'Histogram Calculations'(bins and counts). We can use 'bar' from matplotlib to draw the Histogram using 'counts & bins' we got from np.histogram.\n",
    "\n",
    "        Note : Matplotlibs 'hist' claculates the 'counts' i.e. Frequency from the array we pass. Even if we pass 'counts', it will still count the frequency as its designed to do!"
   ]
  },
  {
   "cell_type": "code",
   "execution_count": 79,
   "metadata": {},
   "outputs": [
    {
     "data": {
      "text/plain": [
       "<BarContainer object of 9 artists>"
      ]
     },
     "execution_count": 79,
     "metadata": {},
     "output_type": "execute_result"
    },
    {
     "data": {
      "image/png": "[encoded data removed]",
      "text/plain": [
       "<Figure size 640x480 with 1 Axes>"
      ]
     },
     "metadata": {},
     "output_type": "display_data"
    }
   ],
   "source": [
    "import matplotlib.pyplot as plt\n",
    "\n",
    "#plt.hist(arr, bins=np.arange(start=arr.min(), stop=arr.max()+2, dtype=np.uint8))\n",
    "plt.bar(bins_edges[:-1], counts, color='green')\n",
    "#           X axis       Y axis"
   ]
  },
  {
   "cell_type": "markdown",
   "metadata": {},
   "source": [
    "#                        np.isnan,    np.isin,    np.flip"
   ]
  },
  {
   "cell_type": "code",
   "execution_count": 80,
   "metadata": {},
   "outputs": [
    {
     "data": {
      "text/plain": [
       "array([ 6.,  1.,  9.,  3., nan,  7.,  2.])"
      ]
     },
     "execution_count": 80,
     "metadata": {},
     "output_type": "execute_result"
    }
   ],
   "source": [
    "arr = np.array([6, 1, 9, 3, np.nan, 7, 2])\n",
    "arr"
   ]
  },
  {
   "cell_type": "code",
   "execution_count": 82,
   "metadata": {},
   "outputs": [
    {
     "name": "stdout",
     "output_type": "stream",
     "text": [
      "[False False False False  True False False]\n",
      "[6. 1. 9. 3. 7. 2.]\n"
     ]
    }
   ],
   "source": [
    "print(np.isnan(arr))\n",
    "print(arr[~np.isnan(arr)])"
   ]
  },
  {
   "cell_type": "code",
   "execution_count": 90,
   "metadata": {},
   "outputs": [
    {
     "name": "stdout",
     "output_type": "stream",
     "text": [
      "[ True False False  True False  True False]\n",
      "[6. 3. 7.]\n"
     ]
    }
   ],
   "source": [
    "items_to_searched = [3, 6, 8, 7] # it can be in ANY ORDER!\n",
    "\n",
    "print(np.isin(arr, items_to_searched)) # Which values of items_to_searched are IN the arr.\n",
    "print(arr[np.isin(arr, items_to_searched)]) # Only th"
   ]
  },
  {
   "cell_type": "code",
   "execution_count": 91,
   "metadata": {},
   "outputs": [
    {
     "name": "stdout",
     "output_type": "stream",
     "text": [
      "[ 2.  7. nan  3.  9.  1.  6.]\n"
     ]
    }
   ],
   "source": [
    "print(np.flip(arr)) # The REVERSE of arr. In 2D array it reverse both row and column wise unless you specify the axis."
   ]
  },
  {
   "cell_type": "markdown",
   "metadata": {},
   "source": [
    "#                                                                sets "
   ]
  },
  {
   "cell_type": "code",
   "execution_count": 123,
   "metadata": {},
   "outputs": [
    {
     "name": "stdout",
     "output_type": "stream",
     "text": [
      "[[2 4 1]\n",
      " [3 3 4]] = arr1\n",
      "\n",
      "[[4 3 4 5]\n",
      " [7 3 4 6]\n",
      " [4 6 5 6]] = arr2\n",
      "\n",
      "[7 8 9] = arr3\n"
     ]
    }
   ],
   "source": [
    "arr1 = np.random.randint(1, 5, size=(2, 3))\n",
    "arr2 = np.random.randint(3, 9, size=(3, 4))\n",
    "arr3 = np.random.randint(2, 16, size=(3,))\n",
    "\n",
    "print(f\"{arr1} = arr1\\n\\n{arr2} = arr2\\n\\n{arr3} = arr3\")"
   ]
  },
  {
   "cell_type": "code",
   "execution_count": 138,
   "metadata": {},
   "outputs": [
    {
     "name": "stdout",
     "output_type": "stream",
     "text": [
      "[1 2 3 4 5 6 7]\n",
      "[3 4]\n",
      "[1 2]\n",
      "[1 2 5 6 7]\n",
      "(array([3, 4, 5, 6, 7]), array([2, 4, 2, 3, 1], dtype=int64))\n"
     ]
    }
   ],
   "source": [
    "print(np.union1d(arr1, arr2)) # only for 2 arrays, returns the SORTED UNIQUE array combining ALL the values of 2 arrays.\n",
    "print(np.intersect1d(arr1, arr2)) # only for 2 arrays, returns the SORTED UNIQUE array combining the COMMON values of 2 arrays.\n",
    "print(np.setdiff1d(arr1, arr2)) # only for 2 arrays, returns the SORTED UNIQUE array after doing arr1 - arr2.\n",
    "print(np.setxor1d(arr1, arr2)) # only for 2 arrays, returns the SORTED UNIQUE array combining ALL the values of 2 arrays EXCEPT\n",
    "                              # the COMMON values of arr1 and arr2.\n",
    "print(np.unique(arr2, return_counts=True)) # returns the SORTED UNIQUE values and the counts of each unique value.\n",
    "# for np.insert() https://www.geeksforgeeks.org/numpy-insert-python/"
   ]
  },
  {
   "cell_type": "code",
   "execution_count": 3,
   "metadata": {},
   "outputs": [
    {
     "name": "stdout",
     "output_type": "stream",
     "text": [
      "[[ 1  2  3  4]\n",
      " [ 5  6  7  8]\n",
      " [ 9 10 11 12]] \n",
      "\n",
      "(0, 0) 1\n",
      "(0, 1) 2\n",
      "(0, 2) 3\n",
      "(0, 3) 4\n",
      "(1, 0) 5\n",
      "(1, 1) 6\n",
      "(1, 2) 7\n",
      "(1, 3) 8\n",
      "(2, 0) 9\n",
      "(2, 1) 10\n",
      "(2, 2) 11\n",
      "(2, 3) 12\n"
     ]
    }
   ],
   "source": [
    "arr = np.arange(1, 13, dtype=np.uint8).reshape(3, 4)\n",
    "\n",
    "print(arr, '\\n')\n",
    "\n",
    "for index, values in np.ndenumerate(arr):\n",
    "    print(index, values)"
   ]
  },
  {
   "cell_type": "markdown",
   "metadata": {},
   "source": [
    "#  There are other functions like np.in1d, np.put, np.delete which we can do easily with our above knowledge."
   ]
  }
 ],
 "metadata": {
  "kernelspec": {
   "display_name": "Python 3",
   "language": "python",
   "name": "python3"
  },
  "language_info": {
   "codemirror_mode": {
    "name": "ipython",
    "version": 3
   },
   "file_extension": ".py",
   "mimetype": "text/x-python",
   "name": "python",
   "nbconvert_exporter": "python",
   "pygments_lexer": "ipython3",
   "version": "3.12.4"
  }
 },
 "nbformat": 4,
 "nbformat_minor": 2
}
