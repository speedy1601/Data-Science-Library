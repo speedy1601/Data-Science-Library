{
 "cells": [
  {
   "cell_type": "code",
   "execution_count": 1,
   "metadata": {},
   "outputs": [],
   "source": [
    "import cv2\n",
    "import numpy as np"
   ]
  },
  {
   "cell_type": "code",
   "execution_count": 3,
   "metadata": {},
   "outputs": [],
   "source": [
    "img = cv2.imread(\"images/RGB-arrays.jpg\")"
   ]
  },
  {
   "cell_type": "code",
   "execution_count": 24,
   "metadata": {},
   "outputs": [
    {
     "name": "stdout",
     "output_type": "stream",
     "text": [
      "(284, 359, 3)\n"
     ]
    },
    {
     "data": {
      "text/plain": [
       "-1"
      ]
     },
     "execution_count": 24,
     "metadata": {},
     "output_type": "execute_result"
    }
   ],
   "source": [
    "print(img.shape)\n",
    "\n",
    "cv2.imshow('Firefly', img)\n",
    "\n",
    "cv2.waitKey(0)"
   ]
  },
  {
   "cell_type": "code",
   "execution_count": 29,
   "metadata": {},
   "outputs": [
    {
     "data": {
      "text/plain": [
       "-1"
      ]
     },
     "execution_count": 29,
     "metadata": {},
     "output_type": "execute_result"
    }
   ],
   "source": [
    "grayImg = cv2.cvtColor(img, cv2.COLOR_BGR2GRAY) # BGR to Gray Scale\n",
    "\n",
    "cv2.imshow('Firefly', grayImg)\n",
    "\n",
    "cv2.waitKey(0)"
   ]
  },
  {
   "cell_type": "code",
   "execution_count": 32,
   "metadata": {},
   "outputs": [
    {
     "data": {
      "text/plain": [
       "-1"
      ]
     },
     "execution_count": 32,
     "metadata": {},
     "output_type": "execute_result"
    }
   ],
   "source": [
    "imgWithBlue  = img[:, :, 0] # 3rd parameter is an index-value, not 'slice' means img[:, :, 0] will return a 2D Array\n",
    "imgWithGreen = img[:, :, 1]\n",
    "imgWithRed   = img[:, :, 2]\n",
    "\n",
    "totalImg = np.hstack((imgWithRed, imgWithGreen, imgWithBlue))\n",
    "\n",
    "cv2.imshow('Separtely', totalImg)\n",
    "cv2.waitKey(0)"
   ]
  },
  {
   "cell_type": "code",
   "execution_count": 8,
   "metadata": {},
   "outputs": [
    {
     "data": {
      "text/plain": [
       "-1"
      ]
     },
     "execution_count": 8,
     "metadata": {},
     "output_type": "execute_result"
    }
   ],
   "source": [
    "resizedImg = cv2.resize(img, (img.shape[1] >> 1, img.shape[0] >> 1)) # iamge resizing to half : After resizing return new image.\n",
    "                            #(width, height)  where img.shape returns (height, width)\n",
    "cv2.imshow('Resized Image', resizedImg)\n",
    "cv2.waitKey(0)"
   ]
  },
  {
   "cell_type": "code",
   "execution_count": 11,
   "metadata": {},
   "outputs": [
    {
     "data": {
      "text/plain": [
       "True"
      ]
     },
     "execution_count": 11,
     "metadata": {},
     "output_type": "execute_result"
    }
   ],
   "source": [
    "cv2.imwrite('half size.png', resizedImg)   # saving an image in my current directory, write ..png or .jpg or other format"
   ]
  },
  {
   "cell_type": "code",
   "execution_count": 14,
   "metadata": {},
   "outputs": [
    {
     "data": {
      "text/plain": [
       "-1"
      ]
     },
     "execution_count": 14,
     "metadata": {},
     "output_type": "execute_result"
    }
   ],
   "source": [
    "# https://youtu.be/Y_78ARbpSwo?si=v7qCpuhZXwCWzZq1 (Explanation)\n",
    "\n",
    "img[:, -1:-5:-1] = [0, 0, 0]   # adding a black border line vertically at the end of the image\n",
    "\n",
    "flippedImg = cv2.flip(img, 1)\n",
    "\n",
    "imgAndflippedImg = np.hstack((img, flippedImg))\n",
    "\n",
    "cv2.imshow(f\"{' ' * 90} Original Vs Flipped Image\", imgAndflippedImg)\n",
    "cv2.waitKey(0)"
   ]
  },
  {
   "cell_type": "markdown",
   "metadata": {},
   "source": [
    "#                                                  From Numpy Array to Image"
   ]
  },
  {
   "cell_type": "code",
   "execution_count": 6,
   "metadata": {},
   "outputs": [],
   "source": [
    "blueArray = np.zeros((500, 400, 3), dtype=np.uint8) # # this blueArray will act as blue image in cv2"
   ]
  },
  {
   "cell_type": "code",
   "execution_count": 7,
   "metadata": {},
   "outputs": [
    {
     "data": {
      "text/plain": [
       "-1"
      ]
     },
     "execution_count": 7,
     "metadata": {},
     "output_type": "execute_result"
    }
   ],
   "source": [
    "blueArray[:] = 255, 0, 0 # RGB format (Red Image) but cv2.imshow will show as BGR format (Blue Image)\n",
    "\n",
    "cv2.imshow('Blue Image', blueArray)\n",
    "cv2.waitKey(0)"
   ]
  },
  {
   "cell_type": "markdown",
   "metadata": {},
   "source": [
    "#                                                   Line Drawing on a Black Image\n",
    "\n",
    "#                             (ndArray, (Initial Point), (Ending Point), (Color in BGR Format), Thickness)  for line and rectangle\n",
    "#                             (ndArray, (Initial Point), Radius        , (Color in BGR Format), Thickness)  for circle\n",
    "\n",
    "#  thickness = -1 or CV.FILLED means the desired area will be filled with desired color"
   ]
  },
  {
   "cell_type": "code",
   "execution_count": 13,
   "metadata": {},
   "outputs": [],
   "source": [
    "blackArray = np.zeros((500, 500, 3), dtype=np.uint8) # this blackArray will act as black image in cv2"
   ]
  },
  {
   "cell_type": "code",
   "execution_count": 17,
   "metadata": {},
   "outputs": [
    {
     "data": {
      "text/plain": [
       "-1"
      ]
     },
     "execution_count": 17,
     "metadata": {},
     "output_type": "execute_result"
    }
   ],
   "source": [
    "cv2.line(blackArray, (0,0), (300, 400), (255, 0, 0), 4)        # Line\n",
    "cv2.imshow('Line', blackArray)             # BGR\n",
    "cv2.waitKey(0)"
   ]
  },
  {
   "cell_type": "code",
   "execution_count": 22,
   "metadata": {},
   "outputs": [
    {
     "data": {
      "text/plain": [
       "-1"
      ]
     },
     "execution_count": 22,
     "metadata": {},
     "output_type": "execute_result"
    }
   ],
   "source": [
    "cv2.rectangle(blackArray, (0,0), (300, 400), (0, 0, 255), cv2.FILLED)   # Rectange\n",
    "cv2.imshow('Rectangle', blackArray)             # BGR \n",
    "cv2.waitKey(0)"
   ]
  },
  {
   "cell_type": "code",
   "execution_count": 19,
   "metadata": {},
   "outputs": [
    {
     "data": {
      "text/plain": [
       "-1"
      ]
     },
     "execution_count": 19,
     "metadata": {},
     "output_type": "execute_result"
    }
   ],
   "source": [
    "blackArray1 = np.zeros((500, 500, 3), dtype=np.uint8)\n",
    "\n",
    "cv2.line(blackArray1, (0,0),  (blackArray1.shape[1], blackArray1.shape[0]), (255, 0, 0), 4)\n",
    "cv2.imshow('Line', blackArray1)# since I am passing shape, in cv2 we have to pass it as (width, heigh) not (height, width)\n",
    "cv2.waitKey(0)"
   ]
  },
  {
   "cell_type": "code",
   "execution_count": 30,
   "metadata": {},
   "outputs": [
    {
     "data": {
      "text/plain": [
       "-1"
      ]
     },
     "execution_count": 30,
     "metadata": {},
     "output_type": "execute_result"
    }
   ],
   "source": [
    "blackArray2 = np.zeros((500, 500, 3), dtype=np.uint8)\n",
    "\n",
    "cv2.circle(blackArray2, (250, 250), 100, (137, 87, 5), -1)\n",
    "cv2.imshow('Rectange', blackArray2)# since I am passing shape, in cv2 we have to pass it as (width, heigh) not (height, width)\n",
    "cv2.waitKey(0)"
   ]
  },
  {
   "cell_type": "markdown",
   "metadata": {},
   "source": [
    "#                                        Text on a white image\n",
    "\n",
    "#   cv2.putText(image, text to display, Initial point, Font, Scale, Color, lineType=cv2.LINE_AA)"
   ]
  },
  {
   "cell_type": "code",
   "execution_count": 56,
   "metadata": {},
   "outputs": [
    {
     "data": {
      "text/plain": [
       "-1"
      ]
     },
     "execution_count": 56,
     "metadata": {},
     "output_type": "execute_result"
    }
   ],
   "source": [
    "whiteArray = np.full((500, 500, 3), 255, dtype=np.uint8)\n",
    "\n",
    "cv2.putText(whiteArray, 'Maybe You Are So Possessive?', (5, 300), cv2.FONT_HERSHEY_SIMPLEX, 0.1, (0, 0, 0), 1, lineType=cv2.LINE_AA)\n",
    "cv2.imshow('Texts', whiteArray)# since I am passing shape, in cv2 we have to pass it as (width, heigh) not (height, width)\n",
    "cv2.waitKey(0)"
   ]
  },
  {
   "cell_type": "markdown",
   "metadata": {},
   "source": [
    "#                         Image Preprocessing"
   ]
  },
  {
   "cell_type": "code",
   "execution_count": 6,
   "metadata": {},
   "outputs": [
    {
     "data": {
      "text/plain": [
       "-1"
      ]
     },
     "execution_count": 6,
     "metadata": {},
     "output_type": "execute_result"
    }
   ],
   "source": [
    "img = cv2.imread('images/dfsbfs.jpg')\n",
    "grayImg = cv2.cvtColor(img, cv2.COLOR_BGR2GRAY)\n",
    "\n",
    "t, c = 55, 3\n",
    "adaptive_thrsehold = cv2.adaptiveThreshold(grayImg, 255, cv2.ADAPTIVE_THRESH_GAUSSIAN_C, cv2.THRESH_BINARY, blockSize=t, C=c)\n",
    "a = cv2.adaptiveThreshold(grayImg, 255, cv2.ADAPTIVE_THRESH_GAUSSIAN_C, cv2.THRESH_BINARY_INV, t, c)\n",
    "threshold, black_and_white_img = cv2.threshold(grayImg, 100, 255, cv2.THRESH_BINARY)\n",
    "\n",
    "c = np.hstack((adaptive_thrsehold, a, black_and_white_img))\n",
    "cv2.imshow('Adaptive', black_and_white_img)\n",
    "cv2.waitKey(0)"
   ]
  }
 ],
 "metadata": {
  "kernelspec": {
   "display_name": "Python 3",
   "language": "python",
   "name": "python3"
  },
  "language_info": {
   "codemirror_mode": {
    "name": "ipython",
    "version": 3
   },
   "file_extension": ".py",
   "mimetype": "text/x-python",
   "name": "python",
   "nbconvert_exporter": "python",
   "pygments_lexer": "ipython3",
   "version": "3.12.4"
  }
 },
 "nbformat": 4,
 "nbformat_minor": 2
}
