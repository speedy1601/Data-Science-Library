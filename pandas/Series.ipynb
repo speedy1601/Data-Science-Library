{
 "cells": [
  {
   "cell_type": "code",
   "execution_count": 1,
   "metadata": {},
   "outputs": [],
   "source": [
    "import pandas as pd\n",
    "import numpy as np\n",
    "from datetime import datetime\n",
    "from time import time"
   ]
  },
  {
   "cell_type": "markdown",
   "metadata": {},
   "source": [
    "#                                         Series\n",
    "```js\n",
    "        A Single Column is called Series which can be derived from a 1D Array having ANY DATATYPE VALUE or a dictionary where Each Key has only ONE VALUE!\n",
    "\n",
    "        A Column in pandas is 'heterogeneous' i.e. can hold MULTIPLE DATATYPE VALUES unlike polars which can hold only one datatype value."
   ]
  },
  {
   "cell_type": "code",
   "execution_count": 2,
   "metadata": {},
   "outputs": [
    {
     "name": "stdout",
     "output_type": "stream",
     "text": [
      "0    Maria0\n",
      "1    Maria1\n",
      "2    Maria2\n",
      "3    Maria3\n",
      "4    Maria4\n",
      "5    Maria5\n",
      "6    Maria6\n",
      "7    Maria7\n",
      "dtype: object\n",
      "\n",
      "Maria0    4\n",
      "Maria1    7\n",
      "Maria2    9\n",
      "Maria3    5\n",
      "Maria4    3\n",
      "Maria5    6\n",
      "Maria6    8\n",
      "Maria7    1\n",
      "Name: Maria's Marks, dtype: int32\n",
      "\n",
      "0    Maria0\n",
      "1         7\n",
      "2    Maria2\n",
      "3         5\n",
      "4    Maria4\n",
      "5         6\n",
      "6    Maria6\n",
      "7         1\n",
      "dtype: object\n",
      "\n",
      "\n"
     ]
    }
   ],
   "source": [
    "names = [f\"Maria{i}\" for i in range(8)]        \n",
    "marks = np.random.choice(range(1, 10), size=(8,), replace=False)\n",
    "mixed = [marks[i] if i&1 else names[i] for i in range(8)]\n",
    "\n",
    "names_series = pd.Series(names)\n",
    "marks_series = pd.Series(marks, index=names, name=\"Maria's Marks\")\n",
    "mixed_series = pd.Series(mixed)\n",
    "\n",
    "print(f\"{names_series}\\n\\n{marks_series}\\n\\n{mixed_series}\\n\\n\")"
   ]
  },
  {
   "cell_type": "code",
   "execution_count": 3,
   "metadata": {},
   "outputs": [
    {
     "name": "stdout",
     "output_type": "stream",
     "text": [
      "Maria0 = <class 'str'> = \n",
      "\n",
      "7 = <class 'numpy.int32'> = \n",
      "\n",
      "12\n"
     ]
    }
   ],
   "source": [
    "print(mixed_series[0], type(mixed_series[0]), '\\n', sep=' = ')\n",
    "print(mixed_series[1], type(mixed_series[1]), '\\n', sep=' = ')\n",
    "\n",
    "print(mixed_series[1] + mixed_series[3]) # Prove that the integers remains INTEGERS."
   ]
  },
  {
   "cell_type": "markdown",
   "metadata": {},
   "source": [
    "# In Pandas the 'string datatype' is shown as 'object datatype'. Even if the column has just one string value, the dtype for that column will be 'object' BUTTT the integer objects will be integer. So integer, string, any value can live together in a single column which you see from the above code's output.\n",
    "\n",
    "```go\n",
    "        In 'marks_series' you can see `name=\"Maria's Marks`, this name = the Column Name of 'marks_series' BUTT you cant write marks_series[\"Maria's Marks\"] to access the column! In Series you need to provide the 'INDEX' inside the [..]. So the \"name=Maria's Marks\" telling us the Values of the Series are Marias Marks. So 'name=....' is an 'attribute' of the Series object."
   ]
  },
  {
   "cell_type": "code",
   "execution_count": 4,
   "metadata": {},
   "outputs": [
    {
     "data": {
      "text/plain": [
       "Name      Maria\n",
       "Hobby      Kick\n",
       "Weight       80\n",
       "Age        21.8\n",
       "Name: Maria's Info, dtype: object"
      ]
     },
     "execution_count": 4,
     "metadata": {},
     "output_type": "execute_result"
    }
   ],
   "source": [
    "dictionary = {\n",
    "    'Name'   : 'Maria',\n",
    "    'Hobby'  : 'Kick',\n",
    "    'Weight' : 80,\n",
    "    'Age'    : 21.8\n",
    "}\n",
    "\n",
    "series_info = pd.Series(dictionary, name=\"Maria's Info\")\n",
    "series_info # the keys became index automatically."
   ]
  },
  {
   "cell_type": "markdown",
   "metadata": {},
   "source": [
    "#                          Series Attributes (not functions)"
   ]
  },
  {
   "cell_type": "code",
   "execution_count": 5,
   "metadata": {},
   "outputs": [
    {
     "data": {
      "text/plain": [
       "Maria0    4\n",
       "Maria1    7\n",
       "Maria2    9\n",
       "Maria3    5\n",
       "Maria4    3\n",
       "Maria5    6\n",
       "Maria6    8\n",
       "Maria7    1\n",
       "Name: Maria's Marks, dtype: int32"
      ]
     },
     "execution_count": 5,
     "metadata": {},
     "output_type": "execute_result"
    }
   ],
   "source": [
    "n = '\\n'\n",
    "marks_series"
   ]
  },
  {
   "cell_type": "code",
   "execution_count": 6,
   "metadata": {},
   "outputs": [
    {
     "name": "stdout",
     "output_type": "stream",
     "text": [
      "[4 7 9 5 3 6 8 1] = values \n",
      "\n",
      "Index(['Maria0', 'Maria1', 'Maria2', 'Maria3', 'Maria4', 'Maria5', 'Maria6',\n",
      "       'Maria7'],\n",
      "      dtype='object') = index \n",
      "\n",
      "8 = size \n",
      "\n",
      "int32 = dtype \n",
      "\n",
      "False = empty \n",
      "\n",
      "False = hasnans \n",
      "\n",
      "True = is_unique(Is all the Items are Unique) \n",
      "\n",
      "False = is_monotonic_increasing \n",
      "\n",
      "False = is_monotonic_decreasing \n",
      "\n",
      "Maria's Marks = name \n",
      "\n",
      "1 = ndim \n",
      "\n",
      "(8,) = shape \n",
      "\n"
     ]
    }
   ],
   "source": [
    "print(marks_series.values, \"= values\", n)\n",
    "print(marks_series.index, \"= index\", n)\n",
    "print(marks_series.size, \"= size\", n)\n",
    "print(marks_series.dtype, \"= dtype\", n)\n",
    "print(marks_series.empty, \"= empty\", n)\n",
    "print(marks_series.hasnans, \"= hasnans\", n)\n",
    "print(marks_series.is_unique, \"= is_unique(Is all the Items are Unique)\", n)\n",
    "print(marks_series.is_monotonic_increasing, \"= is_monotonic_increasing\", n)\n",
    "print(marks_series.is_monotonic_decreasing, \"= is_monotonic_decreasing\", n)\n",
    "print(marks_series.name, \"= name\", n)\n",
    "print(marks_series.ndim, \"= ndim\", n)\n",
    "print(marks_series.shape, \"= shape\", n)\n"
   ]
  },
  {
   "cell_type": "markdown",
   "metadata": {},
   "source": [
    "#                                               Series from real world dataset\n",
    "```js\n",
    "        By default 'pd.read_csv(..)' reads the file in 'DataFrame' format! If your csv has only `1 Column` or `2 Columns but you set 1 Column as Values and 2nd Column as Indexes`, only then you can you convert the DataFrame to Series by `DataFrame.squeeze()`. '.squeeze()' squeezes the DataFrame to Series."
   ]
  },
  {
   "cell_type": "code",
   "execution_count": 7,
   "metadata": {},
   "outputs": [
    {
     "name": "stdout",
     "output_type": "stream",
     "text": [
      "<class 'pandas.core.series.Series'> \n",
      "\n",
      "Names\n",
      "Avery Bradley    25\n",
      "Jae Crowder      25\n",
      "John Holland     27\n",
      "R.J. Hunter      22\n",
      "Jonas Jerebko    29\n",
      "                 ..\n",
      "Trey Lyles       20\n",
      "Shelvin Mack     26\n",
      "Raul Neto        24\n",
      "Tibor Pleiss     26\n",
      "Jeff Withey      26\n",
      "Name: Age, Length: 457, dtype: int64\n"
     ]
    }
   ],
   "source": [
    "n = '\\n'\n",
    "srs:pd.Series = pd.read_csv(\"D:\\\\datasets\\\\2ColumnExcel.csv\", index_col='Names').squeeze()\n",
    "# The csv has 2 columns(Names, Age) but I set 'Names' column to be the Index Column, so I have basically only One Column now.\n",
    "print(type(srs), n)\n",
    "print(srs)\n",
    "# from the output you can see Name : Age i.e. my Column name is 'Age' in 'srs' object."
   ]
  },
  {
   "cell_type": "markdown",
   "metadata": {},
   "source": [
    "#                                           Series Method(functions)"
   ]
  },
  {
   "cell_type": "code",
   "execution_count": 8,
   "metadata": {},
   "outputs": [
    {
     "data": {
      "text/plain": [
       "Names\n",
       "Avery Bradley    25\n",
       "Jae Crowder      25\n",
       "John Holland     27\n",
       "R.J. Hunter      22\n",
       "Jonas Jerebko    29\n",
       "                 ..\n",
       "Trey Lyles       20\n",
       "Shelvin Mack     26\n",
       "Raul Neto        24\n",
       "Tibor Pleiss     26\n",
       "Jeff Withey      26\n",
       "Name: Age, Length: 457, dtype: int64"
      ]
     },
     "execution_count": 8,
     "metadata": {},
     "output_type": "execute_result"
    }
   ],
   "source": [
    "srs"
   ]
  },
  {
   "cell_type": "code",
   "execution_count": 9,
   "metadata": {},
   "outputs": [
    {
     "name": "stdout",
     "output_type": "stream",
     "text": [
      "Names\n",
      "Avery Bradley    25\n",
      "Jae Crowder      25\n",
      "John Holland     27\n",
      "R.J. Hunter      22\n",
      "Name: Age, dtype: int64  --> head(4)\n",
      "-------------------------------------------------------\n",
      "\n",
      "Names\n",
      "Shelvin Mack    26\n",
      "Raul Neto       24\n",
      "Tibor Pleiss    26\n",
      "Jeff Withey     26\n",
      "Name: Age, dtype: int64  --> tail(4)\n",
      "-------------------------------------------------------\n",
      "\n",
      "Names\n",
      "Hassan Whiteside    26\n",
      "Bradley Beal        22\n",
      "Mike Muscala        24\n",
      "Lamar Patterson     24\n",
      "Jason Terry         38\n",
      "Andrew Wiggins      21\n",
      "Markieff Morris     26\n",
      "Name: Age, dtype: int64  --> sample(7)\n",
      "-------------------------------------------------------\n",
      "\n"
     ]
    }
   ],
   "source": [
    "extra_info = lambda extra='': f\" --> {extra}\\n-------------------------------------------------------\\n\"\n",
    "\n",
    "print(srs.head(4), extra_info('head(4)')) # The FIRST 4 rows\n",
    "print(srs.tail(4), extra_info('tail(4)')) # The LAST 4 rows\n",
    "print(srs.sample(7), extra_info('sample(7)')) # RANDOM 7 rows/values from the Series"
   ]
  },
  {
   "cell_type": "code",
   "execution_count": 10,
   "metadata": {},
   "outputs": [
    {
     "name": "stdout",
     "output_type": "stream",
     "text": [
      "Age\n",
      "24    47\n",
      "25    45\n",
      "27    41\n",
      "23    41\n",
      "26    36\n",
      "28    31\n",
      "30    31\n",
      "29    28\n",
      "22    26\n",
      "31    22\n",
      "20    19\n",
      "21    19\n",
      "33    14\n",
      "32    13\n",
      "34    10\n",
      "36    10\n",
      "35     9\n",
      "37     4\n",
      "38     4\n",
      "40     3\n",
      "39     2\n",
      "19     2\n",
      "Name: count, dtype: int64  --> value_counts()\n",
      "-------------------------------------------------------\n",
      "\n",
      "Age\n",
      "19     2\n",
      "39     2\n",
      "40     3\n",
      "37     4\n",
      "38     4\n",
      "35     9\n",
      "34    10\n",
      "36    10\n",
      "32    13\n",
      "33    14\n",
      "20    19\n",
      "21    19\n",
      "31    22\n",
      "22    26\n",
      "29    28\n",
      "30    31\n",
      "28    31\n",
      "26    36\n",
      "23    41\n",
      "27    41\n",
      "25    45\n",
      "24    47\n",
      "Name: count, dtype: int64  --> value_counts(In ascending, count Nan values also)\n",
      "-------------------------------------------------------\n",
      "\n",
      "Age\n",
      "25    45\n",
      "27    41\n",
      "22    26\n",
      "29    28\n",
      "21    19\n",
      "24    47\n",
      "20    19\n",
      "26    36\n",
      "28    31\n",
      "32    13\n",
      "23    41\n",
      "30    31\n",
      "33    14\n",
      "34    10\n",
      "37     4\n",
      "36    10\n",
      "31    22\n",
      "38     4\n",
      "39     2\n",
      "19     2\n",
      "35     9\n",
      "40     3\n",
      "Name: count, dtype: int64  --> value_counts(No Sorting), frquencies in the order the Unique Values are\n",
      "-------------------------------------------------------\n",
      "\n",
      "<class 'pandas.core.series.Series'>\n",
      "Index([24, 25, 27, 23, 26, 28, 30, 29, 22, 31, 20, 21, 33, 32, 34, 36, 35, 37,\n",
      "       38, 40, 39, 19],\n",
      "      dtype='int64', name='Age')  --> indexes = Each Unique Value\n",
      "-------------------------------------------------------\n",
      "\n",
      "[47 45 41 41 36 31 31 28 26 22 19 19 14 13 10 10  9  4  4  3  2  2]  --> Values = Frquencies\n",
      "-------------------------------------------------------\n",
      "\n"
     ]
    }
   ],
   "source": [
    "# by deafult 'Series.value_counts()' returns the Frquencies of Values in SORTED(Descending) without counting 'Nan' values. \n",
    "print(srs.value_counts(), extra_info('value_counts()'))\n",
    "print(srs.value_counts(ascending=True, dropna=False), extra_info('value_counts(In ascending, count Nan values also)'))\n",
    "print(srs.value_counts(sort=False), extra_info('value_counts(No Sorting), frquencies in the order the Unique Values are')) # without sorting, returns frquencies in the order the Unique Values are.\n",
    "\n",
    "# Prove the return value is A Series\n",
    "counts = srs.value_counts()\n",
    "print(type(counts))\n",
    "print(counts.index, extra_info('indexes = Each Unique Value'))\n",
    "print(counts.values, extra_info('Values = Frquencies'))"
   ]
  },
  {
   "cell_type": "code",
   "execution_count": 11,
   "metadata": {},
   "outputs": [
    {
     "name": "stdout",
     "output_type": "stream",
     "text": [
      "Names\n",
      "Rashad Vaughn         19\n",
      "Devin Booker          19\n",
      "Kristaps Porzingis    20\n",
      "Tyus Jones            20\n",
      "Cliff Alexander       20\n",
      "                      ..\n",
      "Vince Carter          39\n",
      "Pablo Prigioni        39\n",
      "Tim Duncan            40\n",
      "Kevin Garnett         40\n",
      "Andre Miller          40\n",
      "Name: Age, Length: 457, dtype: int64  --> Sorted by values\n",
      "-------------------------------------------------------\n",
      "\n",
      "Names\n",
      "Andre Miller          40\n",
      "Kevin Garnett         40\n",
      "Tim Duncan            40\n",
      "Vince Carter          39\n",
      "Pablo Prigioni        39\n",
      "                      ..\n",
      "Kristaps Porzingis    20\n",
      "Tyus Jones            20\n",
      "Christian Wood        20\n",
      "Rashad Vaughn         19\n",
      "Devin Booker          19\n",
      "Name: Age, Length: 457, dtype: int64  --> sorted in place in Descending order\n",
      "-------------------------------------------------------\n",
      "\n",
      "Names\n",
      "Aaron Brooks       31\n",
      "Aaron Gordon       20\n",
      "Aaron Harrison     21\n",
      "Adreian Payne      25\n",
      "Al Horford         30\n",
      "                   ..\n",
      "Wilson Chandler    29\n",
      "Xavier Munford     24\n",
      "Zach LaVine        21\n",
      "Zach Randolph      34\n",
      "Zaza Pachulia      32\n",
      "Name: Age, Length: 457, dtype: int64  --> sorted the index column\n",
      "-------------------------------------------------------\n",
      "\n"
     ]
    }
   ],
   "source": [
    "print(srs.sort_values(), extra_info('Sorted by values')) # by default ascending = True, inplace = False\n",
    "\n",
    "srs_copy = srs.copy()\n",
    "srs_copy.sort_values(ascending=False, inplace=True) # sort inplace\n",
    "print(srs_copy, extra_info('sorted in place in Descending order'))\n",
    "\n",
    "print(srs.sort_index(), extra_info('sorted the index column')) # same as sort_values() but sort_index() sort the index column"
   ]
  },
  {
   "cell_type": "code",
   "execution_count": 12,
   "metadata": {},
   "outputs": [
    {
     "name": "stdout",
     "output_type": "stream",
     "text": [
      "2  --> Number of Nan values in 'temp_srs'\n",
      "-------------------------------------------------------\n",
      "\n",
      "0    1.0\n",
      "1    5.0\n",
      "2    2.0\n",
      "4    4.0\n",
      "6    8.0\n",
      "7    5.0\n",
      "8    1.0\n",
      "dtype: float64  --> drop Nan values\n",
      "-------------------------------------------------------\n",
      "\n",
      "0      1.0\n",
      "1      5.0\n",
      "2      2.0\n",
      "3    123.0\n",
      "4      4.0\n",
      "5    123.0\n",
      "6      8.0\n",
      "7      5.0\n",
      "8      1.0\n",
      "dtype: float64  --> fill the Nan values with 123\n",
      "-------------------------------------------------------\n",
      "\n",
      "0    1.0\n",
      "1    5.0\n",
      "2    2.0\n",
      "3    NaN\n",
      "4    4.0\n",
      "6    8.0\n",
      "dtype: float64  --> drop_duplicates()\n",
      "-------------------------------------------------------\n",
      "\n",
      "2    2.0\n",
      "4    4.0\n",
      "5    NaN\n",
      "6    8.0\n",
      "7    5.0\n",
      "8    1.0\n",
      "dtype: float64  --> drop_duplicates(keep='last')\n",
      "-------------------------------------------------------\n",
      "\n",
      "0    1.0\n",
      "1    5.0\n",
      "2    2.0\n",
      "3    nan\n",
      "4    4.0\n",
      "5    nan\n",
      "6    8.0\n",
      "7    5.0\n",
      "8    1.0\n",
      "dtype: object  --> astype('str')\n",
      "-------------------------------------------------------\n",
      "\n",
      "0    False\n",
      "1     True\n",
      "2    False\n",
      "3    False\n",
      "4     True\n",
      "5    False\n",
      "6     True\n",
      "7     True\n",
      "8    False\n",
      "dtype: bool  --> Is every Value between 4 and 8? (Both are INCLUSIVE)\n",
      "-------------------------------------------------------\n",
      "\n",
      "0    3.0\n",
      "1    5.0\n",
      "2    3.0\n",
      "3    NaN\n",
      "4    4.0\n",
      "5    NaN\n",
      "6    6.0\n",
      "7    5.0\n",
      "8    3.0\n",
      "dtype: float64  --> clip(lower=3, upper=6)\n",
      "-------------------------------------------------------\n",
      "\n",
      "0     True\n",
      "1    False\n",
      "2    False\n",
      "3    False\n",
      "4    False\n",
      "5    False\n",
      "6     True\n",
      "7    False\n",
      "8     True\n",
      "dtype: bool  --> isin([8, 3, 1])\n",
      "-------------------------------------------------------\n",
      "\n"
     ]
    }
   ],
   "source": [
    "temp_srs = pd.Series([1, 5, 2, np.nan, 4, np.nan,  8, 5, 1])\n",
    "\n",
    "print(temp_srs.isna().sum(), extra_info(\"Number of Nan values in 'temp_srs'\")) # isna() returns BOOLEAN SERIES i.e. mask.\n",
    "print(temp_srs.dropna(),     extra_info(\"drop Nan values\")) # inplace = False by default.\n",
    "print(temp_srs.fillna(123),  extra_info(\"fill the Nan values with 123\")) # inplace = False by default.\n",
    "\n",
    "print(temp_srs.drop_duplicates(),            extra_info(\"drop_duplicates()\")) # by default keep='first', for example from [1, 1, 1..] the FIRST 1 is KEPT and the next 1s are DROPPED.\n",
    "print(temp_srs.drop_duplicates(keep='last'), extra_info(\"drop_duplicates(keep='last')\")) # The LAST ONE is kept and PREVIOUS DUPLICATES ARE DROPPED!\n",
    "\n",
    "print(temp_srs.astype('str'),            extra_info(\"astype('str')\")) # can't convert to int because Nan can't be converted to int.\n",
    "print(temp_srs.between(left=4, right=8), extra_info(\"Is every Value between 4 and 8? (Both are INCLUSIVE)\"))\n",
    "print(temp_srs.clip(lower=3, upper=6),   extra_info(\"clip(lower=3, upper=6)\")) # by default inplace=False. It works like np.clip(..)\n",
    "print(temp_srs.isin([8, 3, 1]), extra_info(\"isin([8, 3, 1])\")) # returns a Boolean Series denoting which values of [8, 3, 1] are IN 'temp_srs'."
   ]
  },
  {
   "cell_type": "code",
   "execution_count": 13,
   "metadata": {},
   "outputs": [
    {
     "name": "stdout",
     "output_type": "stream",
     "text": [
      "0        SAM\n",
      "1      NOKIA\n",
      "2      MARIA\n",
      "3    AMERICA\n",
      "4      OSAKA\n",
      "5       AAAA\n",
      "dtype: object \n",
      "\n",
      "0        SAM\n",
      "1      NOKIA\n",
      "2      MARIA\n",
      "3    AMERICA\n",
      "4      OSAKA\n",
      "5       AAAA\n",
      "dtype: object\n"
     ]
    }
   ],
   "source": [
    "myName_srs = pd.Series(['Sam Samu Sami', 'Nokia Alia', 'Maria Schillerefy', 'America Yaaa aaa', 'Osaka Bin Laden', 'Aaaa Aaa'])\n",
    "# Q : Return a Series where each Name will be its First Name and in Upper Case.\n",
    "#     This is a CUSTOM LOGIC for what we'll use \".apply(..)\". Inside (..) put the lambda function or custom function NAME.\n",
    "\n",
    "print(myName_srs.apply(lambda name : name.split()[0].upper()), '\\n')\n",
    "\n",
    "def upper(name:str) -> str: return name.split()[0].upper()\n",
    "print(myName_srs.apply(upper))"
   ]
  },
  {
   "cell_type": "markdown",
   "metadata": {},
   "source": [
    "#                                   Check if the Series/DataFrame is `View` or not, `Copy` or not.\n",
    "#                WARNING : DON'T WRITE IN A VIEW VERSION SERIES as IT WILL MODIFY THE ORIGINAL SERIES AS WELL."
   ]
  },
  {
   "cell_type": "code",
   "execution_count": 14,
   "metadata": {},
   "outputs": [
    {
     "name": "stdout",
     "output_type": "stream",
     "text": [
      "None True\n"
     ]
    }
   ],
   "source": [
    "temp_srs: pd.Series = srs.iloc[:5]\n",
    "print(temp_srs._is_copy, temp_srs._is_view) # _is_view = True means It's a COPY"
   ]
  },
  {
   "cell_type": "code",
   "execution_count": 15,
   "metadata": {},
   "outputs": [
    {
     "name": "stdout",
     "output_type": "stream",
     "text": [
      "457  --> size (also count Nans)\n",
      "-------------------------------------------------------\n",
      "\n",
      "457  --> count (ignore Nans)\n",
      "-------------------------------------------------------\n",
      "\n",
      "12311  --> sum\n",
      "-------------------------------------------------------\n",
      "\n",
      "inf  --> product\n",
      "-------------------------------------------------------\n",
      "\n",
      "26.938730853391686  --> mean\n",
      "-------------------------------------------------------\n",
      "\n",
      "19  --> min\n",
      "-------------------------------------------------------\n",
      "\n",
      "Tim Duncan  --> index of the maximum value\n",
      "-------------------------------------------------------\n",
      "\n",
      "count    457.000000\n",
      "mean      26.938731\n",
      "std        4.404016\n",
      "min       19.000000\n",
      "25%       24.000000\n",
      "50%       26.000000\n",
      "75%       30.000000\n",
      "max       40.000000\n",
      "Name: Age, dtype: float64\n"
     ]
    },
    {
     "name": "stderr",
     "output_type": "stream",
     "text": [
      "C:\\Users\\user\\AppData\\Roaming\\Python\\Python312\\site-packages\\numpy\\core\\_methods.py:53: RuntimeWarning: overflow encountered in reduce\n",
      "  return umr_prod(a, axis, dtype, out, keepdims, initial, where)\n"
     ]
    }
   ],
   "source": [
    "print(srs.size, extra_info('size (also count Nans)'))\n",
    "print(srs.count(), extra_info('count (ignore Nans)'))\n",
    "# size counts ALL the Values where count ignores the Nan values.\n",
    "\n",
    "print(srs.sum(), extra_info('sum'))\n",
    "print(srs.astype(np.float_).product(), extra_info('product')) # inf because the product is too big display.\n",
    "print(srs.mean(), extra_info('mean')) # also can do median(), mode(), std(), var().\n",
    "print(srs.min(), extra_info('min')) # also can do max().\n",
    "print(srs.idxmax(), extra_info('index of the maximum value')) # also can do idxmin().\n",
    "print(srs.describe()) # display the 5 Numbers alongside count, mean, std."
   ]
  },
  {
   "cell_type": "markdown",
   "metadata": {},
   "source": [
    "#                                               Slicing and Indexing"
   ]
  },
  {
   "cell_type": "code",
   "execution_count": 16,
   "metadata": {},
   "outputs": [
    {
     "data": {
      "text/plain": [
       "Names\n",
       "Avery Bradley    25\n",
       "Jae Crowder      25\n",
       "John Holland     27\n",
       "R.J. Hunter      22\n",
       "Jonas Jerebko    29\n",
       "                 ..\n",
       "Trey Lyles       20\n",
       "Shelvin Mack     26\n",
       "Raul Neto        24\n",
       "Tibor Pleiss     26\n",
       "Jeff Withey      26\n",
       "Name: Age, Length: 457, dtype: int64"
      ]
     },
     "execution_count": 16,
     "metadata": {},
     "output_type": "execute_result"
    }
   ],
   "source": [
    "srs"
   ]
  },
  {
   "cell_type": "code",
   "execution_count": 17,
   "metadata": {},
   "outputs": [
    {
     "name": "stdout",
     "output_type": "stream",
     "text": [
      "27  --> srs[2]\n",
      "-------------------------------------------------------\n",
      "\n",
      "24  --> srs[-3]\n",
      "-------------------------------------------------------\n",
      "\n"
     ]
    },
    {
     "name": "stderr",
     "output_type": "stream",
     "text": [
      "C:\\Users\\user\\AppData\\Local\\Temp\\ipykernel_6168\\4252475424.py:3: FutureWarning: Series.__getitem__ treating keys as positions is deprecated. In a future version, integer keys will always be treated as labels (consistent with DataFrame behavior). To access a value by position, use `ser.iloc[pos]`\n",
      "  print(srs[2], extra_info('srs[2]'))\n",
      "C:\\Users\\user\\AppData\\Local\\Temp\\ipykernel_6168\\4252475424.py:4: FutureWarning: Series.__getitem__ treating keys as positions is deprecated. In a future version, integer keys will always be treated as labels (consistent with DataFrame behavior). To access a value by position, use `ser.iloc[pos]`\n",
      "  print(srs[-3], extra_info('srs[-3]'))\n"
     ]
    }
   ],
   "source": [
    "# As you can see, the index is 'Names' not 0, 1, 2... But pandas gives us still flexibility to access with 0, 1, 2...\n",
    "\n",
    "print(srs[2], extra_info('srs[2]'))\n",
    "print(srs[-3], extra_info('srs[-3]'))"
   ]
  },
  {
   "cell_type": "markdown",
   "metadata": {},
   "source": [
    "# Getting FutureWarning but working! Now if you set the index as [3, 0, 1, 2] and if we try to say srs[0], now this 0 means the label name (0) inside the index column not the Array Index(0, 1, 2...).. That's why to avoid confliction we will use\n",
    "```js\n",
    "    Series/DataFrame .iloc[] for 'Array Indexing(0, 1, 2 ,3 ....)'\n",
    "    Series/DataFrame .loc[] for 'Label(our custom Indexing)'"
   ]
  },
  {
   "cell_type": "code",
   "execution_count": 18,
   "metadata": {},
   "outputs": [
    {
     "data": {
      "text/plain": [
       "Names\n",
       "Avery Bradley    25\n",
       "Jae Crowder      25\n",
       "John Holland     27\n",
       "R.J. Hunter      22\n",
       "Jonas Jerebko    29\n",
       "                 ..\n",
       "Trey Lyles       20\n",
       "Shelvin Mack     26\n",
       "Raul Neto        24\n",
       "Tibor Pleiss     26\n",
       "Jeff Withey      26\n",
       "Name: Age, Length: 457, dtype: int64"
      ]
     },
     "execution_count": 18,
     "metadata": {},
     "output_type": "execute_result"
    }
   ],
   "source": [
    "extra_info = lambda extra='': f\" --> {extra}\\n--------------------------------------------------------------------------------\\n\"\n",
    "srs"
   ]
  },
  {
   "cell_type": "code",
   "execution_count": 19,
   "metadata": {},
   "outputs": [
    {
     "name": "stdout",
     "output_type": "stream",
     "text": [
      "Names\n",
      "Raul Neto       24\n",
      "Tibor Pleiss    26\n",
      "Name: Age, dtype: int64  --> iloc[-3:-1]\n",
      "--------------------------------------------------------------------------------\n",
      "\n",
      "Names\n",
      "Avery Bradley    25\n",
      "John Holland     27\n",
      "Jeff Withey      26\n",
      "Raul Neto        24\n",
      "Name: Age, dtype: int64  --> iloc[[0, 2, -1, -3]]\n",
      "--------------------------------------------------------------------------------\n",
      "\n",
      "20  --> loc['Trey Lyles']\n",
      "--------------------------------------------------------------------------------\n",
      "\n",
      "Names\n",
      "Trey Lyles     20\n",
      "Raul Neto      24\n",
      "Jeff Withey    26\n",
      "Name: Age, dtype: int64  --> loc['Trey Lyles':]\n",
      "--------------------------------------------------------------------------------\n",
      "\n"
     ]
    }
   ],
   "source": [
    "print(srs.iloc[-3:-1], extra_info('iloc[-3:-1]')) # negative slicing\n",
    "print(srs.iloc[[0, 2, -1, -3]], extra_info('iloc[[0, 2, -1, -3]]')) # fancy indexing\n",
    "print(srs.loc['Trey Lyles'], extra_info(\"loc['Trey Lyles']\"))\n",
    "print(srs.loc['Trey Lyles':'Jeff Withey':2], extra_info(\"loc['Trey Lyles':]\")) # IMPORTANT ONE, here in 'STRING SLICING' even the ENDPOINT is INCLUSIVE."
   ]
  },
  {
   "cell_type": "code",
   "execution_count": 20,
   "metadata": {},
   "outputs": [
    {
     "name": "stdout",
     "output_type": "stream",
     "text": [
      "Index(['Jared Sullinger', 'Markel Brown', 'Langston Galloway',\n",
      "       'Kendall Marshall', 'T.J. McConnell', 'Cory Joseph',\n",
      "       'Jonas Valanciunas', 'Delon Wright', 'Harrison Barnes', 'Tarik Black',\n",
      "       'Jordan Clarkson', 'Brandon Knight', 'Duje Dukan', 'Eric Moreland',\n",
      "       'Doug McDermott', 'Tony Snell', 'Kyrie Irving', 'Rakeem Christmas',\n",
      "       'Michael Carter-Williams', 'Khris Middleton', 'Dwight Powell',\n",
      "       'Terrence Jones', 'Ray McCallum', 'Xavier Munford', 'Kawhi Leonard',\n",
      "       'Tim Hardaway Jr.', 'Mike Muscala', 'Lamar Patterson', 'Walter Tavares',\n",
      "       'Troy Daniels', 'Jeremy Lamb', 'Tyler Johnson', 'Shabazz Napier',\n",
      "       'Victor Oladipo', 'Jarell Eddie', 'Joffrey Lauvergne', 'Josh Huestis',\n",
      "       'Enes Kanter', 'Mitch McGary', 'Andre Roberson', 'Dion Waiters',\n",
      "       'Allen Crabbe', 'Meyers Leonard', 'C.J. McCollum', 'Alec Burks',\n",
      "       'Derrick Favors', 'Raul Neto'],\n",
      "      dtype='object', name='Names')  --> Indexes of those Values which are 24\n",
      "--------------------------------------------------------------------------------\n",
      "\n",
      "Names\n",
      "John Holland     27\n",
      "R.J. Hunter      22\n",
      "Jonas Jerebko    29\n",
      "Amir Johnson     29\n",
      "Jordan Mickey    21\n",
      "Name: Age, dtype: int64\n"
     ]
    }
   ],
   "source": [
    "print(srs.index[srs == 24], extra_info('Indexes of those Values which are 24'))   # The Indexes of those Values which are 24\n",
    "\n",
    "i = srs.index.get_loc('John Holland')\n",
    "print(srs.iloc[i:i+5]) # From the Index 'John Holland', get next 5 values including him.\n",
    "# i = 2 because 'John Holland' is a UNIQUE INDEX, if there were multiple 'John Holland', we would get a Boolean Mask."
   ]
  },
  {
   "cell_type": "code",
   "execution_count": 21,
   "metadata": {},
   "outputs": [
    {
     "data": {
      "text/plain": [
       "0     7\n",
       "1    56\n",
       "2    56\n",
       "3    56\n",
       "4    56\n",
       "5    56\n",
       "dtype: uint8"
      ]
     },
     "execution_count": 21,
     "metadata": {},
     "output_type": "execute_result"
    }
   ],
   "source": [
    "#                                               Writing data in a Series\n",
    "runs_srs:pd.Series = pd.Series([7, 2, 4, 3, 8, 4], dtype=np.uint8)\n",
    "runs_srs[1:8] = 56 # During Reading Data by runs_srs[3] won't give error but runs_srs[6] will.\n",
    "runs_srs"
   ]
  },
  {
   "cell_type": "code",
   "execution_count": 22,
   "metadata": {},
   "outputs": [
    {
     "data": {
      "text/plain": [
       "0       7\n",
       "1      56\n",
       "2      56\n",
       "3      56\n",
       "4      56\n",
       "5      56\n",
       "7    2345\n",
       "dtype: uint16"
      ]
     },
     "execution_count": 22,
     "metadata": {},
     "output_type": "execute_result"
    }
   ],
   "source": [
    "runs_srs[7] = 2345 # the current dtype will be changed to fit this value in the Series.\n",
    "runs_srs # As you can see, without writing at index 6 we can write at index 7, why? The Index Column of Pandas Series is not an Array, this index setting IS UPTO YOU, you can put [0, 1, 1000] as index column.\n",
    "#          But yes, INTERNALLY pandas has it's 0 based indexing but INDEX COLUMN is TOTALLY CUSTOM!\n",
    "#          In polars its different as polars doesn't have INDEX COLUMN, so polars's index is 0 BASED INDEXING."
   ]
  },
  {
   "cell_type": "code",
   "execution_count": 23,
   "metadata": {},
   "outputs": [
    {
     "name": "stdout",
     "output_type": "stream",
     "text": [
      "Names\n",
      "Avery Bradley    25\n",
      "Jae Crowder      25\n",
      "John Holland     27\n",
      "R.J. Hunter      22\n",
      "Jonas Jerebko    29\n",
      "                 ..\n",
      "Trey Lyles       20\n",
      "Shelvin Mack     26\n",
      "Raul Neto        24\n",
      "Tibor Pleiss     26\n",
      "Jeff Withey      26\n",
      "Name: Age, Length: 457, dtype: int64\n",
      "Axes(0.22375,0.11;0.5775x0.77)\n"
     ]
    },
    {
     "data": {
      "image/png": "[encoded data removed]",
      "text/plain": [
       "<Figure size 640x480 with 1 Axes>"
      ]
     },
     "metadata": {},
     "output_type": "display_data"
    }
   ],
   "source": [
    "print(srs)\n",
    "#print(srs.plot())\n",
    "#print(srs.value_counts().plot(kind='bar')) # by default sort=True inside value_counts()\n",
    "print(srs.value_counts().plot(kind='pie'))"
   ]
  },
  {
   "cell_type": "code",
   "execution_count": 30,
   "metadata": {},
   "outputs": [
    {
     "name": "stdout",
     "output_type": "stream",
     "text": [
      "None\n",
      "True\n"
     ]
    }
   ],
   "source": [
    "srs1 = srs[:10]\n",
    "print(srs1._is_copy)\n",
    "print(srs1._is_view)"
   ]
  }
 ],
 "metadata": {
  "kernelspec": {
   "display_name": "Python 3",
   "language": "python",
   "name": "python3"
  },
  "language_info": {
   "codemirror_mode": {
    "name": "ipython",
    "version": 3
   },
   "file_extension": ".py",
   "mimetype": "text/x-python",
   "name": "python",
   "nbconvert_exporter": "python",
   "pygments_lexer": "ipython3",
   "version": "3.12.4"
  }
 },
 "nbformat": 4,
 "nbformat_minor": 2
}
